{
 "cells": [
  {
   "cell_type": "code",
   "execution_count": 1,
   "id": "c4f50ae6",
   "metadata": {},
   "outputs": [],
   "source": [
    "import os\n",
    "import matplotlib.pyplot as plt\n",
    "from sklearn.model_selection import train_test_split\n",
    "import numpy as np"
   ]
  },
  {
   "cell_type": "code",
   "execution_count": 2,
   "id": "ae5a18ba",
   "metadata": {},
   "outputs": [],
   "source": [
    "from google.cloud import storage\n",
    "from google.oauth2 import service_account"
   ]
  },
  {
   "cell_type": "code",
   "execution_count": 3,
   "id": "6b8a4ff6",
   "metadata": {},
   "outputs": [],
   "source": [
    "def get_images_to_folder():\n",
    "    BUCKET_NAME = \"youtube_optimizer_data\"\n",
    "    storage_dir = \"thumbnail_images\"\n",
    "    local_dir = \"bucket_data/\" #Create this manually\n",
    "\n",
    "    my_credentials = service_account.Credentials.from_service_account_file(\"massive-pen-365111-8eaed18fb748.json\")\n",
    "\n",
    "    client = storage.Client(credentials=my_credentials)\n",
    "    bucket = client.bucket(BUCKET_NAME)\n",
    "    blob = bucket.blob(storage_dir)\n",
    "    \n",
    "    blobs = bucket.list_blobs(prefix =storage_dir)\n",
    "    for blob in blobs:\n",
    "        filename = blob.name.replace('/','_')\n",
    "        blob.download_to_filename(local_dir + filename)"
   ]
  },
  {
   "cell_type": "code",
   "execution_count": 4,
   "id": "e190907c",
   "metadata": {},
   "outputs": [
    {
     "data": {
      "text/plain": [
       "17"
      ]
     },
     "execution_count": 4,
     "metadata": {},
     "output_type": "execute_result"
    }
   ],
   "source": [
    "len('thumbnail_images_')"
   ]
  },
  {
   "cell_type": "code",
   "execution_count": 5,
   "id": "649c58ad",
   "metadata": {},
   "outputs": [],
   "source": [
    "def load_images_from_folder(folder='/Users/nicolafriedrich/code/jacksharples1/youtube_optimizer/bucket_data'):\n",
    "    images = []\n",
    "    views = []\n",
    "    for filename in os.listdir(folder):\n",
    "        if len(filename)< 18:\n",
    "            continue\n",
    "\n",
    "        else:\n",
    "            img = plt.imread(os.path.join(folder,filename))\n",
    "            last_underscore = filename.rfind('_')\n",
    "            y = int(filename[last_underscore +1:])\n",
    "            images.append(np.array(img))\n",
    "            views.append(y)\n",
    "    return images, views\n"
   ]
  },
  {
   "cell_type": "code",
   "execution_count": 6,
   "id": "2ea3b8f9",
   "metadata": {},
   "outputs": [],
   "source": [
    "imgs,views = load_images_from_folder()"
   ]
  },
  {
   "cell_type": "code",
   "execution_count": 7,
   "id": "d3f3ad21",
   "metadata": {},
   "outputs": [
    {
     "data": {
      "text/plain": [
       "(633, (180, 320, 3), list, numpy.ndarray)"
      ]
     },
     "execution_count": 7,
     "metadata": {},
     "output_type": "execute_result"
    }
   ],
   "source": [
    "len(imgs),imgs[0].shape,type(imgs),type(imgs[0])"
   ]
  },
  {
   "cell_type": "code",
   "execution_count": 8,
   "id": "9fb8da73",
   "metadata": {},
   "outputs": [],
   "source": [
    "X = imgs\n",
    "y = views"
   ]
  },
  {
   "cell_type": "code",
   "execution_count": 9,
   "id": "b42db08e",
   "metadata": {},
   "outputs": [],
   "source": [
    "def split_train_test(X,y,test_size = 0.3, random_state = 0):\n",
    "    X_train, X_test, y_train, y_test = train_test_split(X, y, test_size=0.3, random_state=0)\n",
    "    X_train = np.asarray(X_train).astype(np.float32)\n",
    "    y_train = np.asarray(y_train).astype(np.float32)\n",
    "    X_test = np.asarray(X_test).astype(np.float32)\n",
    "    y_test = np.asarray(y_test).astype(np.float32)\n",
    "    return X_train, X_test, y_train, y_test"
   ]
  },
  {
   "cell_type": "code",
   "execution_count": null,
   "id": "ce227bf0",
   "metadata": {},
   "outputs": [],
   "source": []
  },
  {
   "cell_type": "code",
   "execution_count": 10,
   "id": "69a3e4fa",
   "metadata": {},
   "outputs": [],
   "source": [
    "def dataloading():\n",
    "    get_images_to_folder()\n",
    "    X,y = load_images_from_folder()\n",
    "    X_train, X_test, y_train, y_test = split_train_test(X,y)\n",
    "    return X_train, X_test, y_train, y_test"
   ]
  },
  {
   "cell_type": "code",
   "execution_count": 11,
   "id": "5a63ba3f",
   "metadata": {},
   "outputs": [
    {
     "name": "stderr",
     "output_type": "stream",
     "text": [
      "/var/folders/5h/c46twxvs23df7jrx5ql_wh3r0000gn/T/ipykernel_10834/1114826248.py:3: VisibleDeprecationWarning: Creating an ndarray from ragged nested sequences (which is a list-or-tuple of lists-or-tuples-or ndarrays with different lengths or shapes) is deprecated. If you meant to do this, you must specify 'dtype=object' when creating the ndarray.\n",
      "  X_train = np.asarray(X_train).astype(np.float32)\n"
     ]
    },
    {
     "ename": "ValueError",
     "evalue": "setting an array element with a sequence.",
     "output_type": "error",
     "traceback": [
      "\u001b[0;31m---------------------------------------------------------------------------\u001b[0m",
      "\u001b[0;31mTypeError\u001b[0m                                 Traceback (most recent call last)",
      "\u001b[0;31mTypeError\u001b[0m: only size-1 arrays can be converted to Python scalars",
      "\nThe above exception was the direct cause of the following exception:\n",
      "\u001b[0;31mValueError\u001b[0m                                Traceback (most recent call last)",
      "Cell \u001b[0;32mIn [11], line 1\u001b[0m\n\u001b[0;32m----> 1\u001b[0m X_train, X_test, y_train, y_test \u001b[38;5;241m=\u001b[39m dataloading()\n",
      "Cell \u001b[0;32mIn [10], line 4\u001b[0m, in \u001b[0;36mdataloading\u001b[0;34m()\u001b[0m\n\u001b[1;32m      2\u001b[0m get_images_to_folder()\n\u001b[1;32m      3\u001b[0m X,y \u001b[38;5;241m=\u001b[39m load_images_from_folder()\n\u001b[0;32m----> 4\u001b[0m X_train, X_test, y_train, y_test \u001b[38;5;241m=\u001b[39m \u001b[43msplit_train_test\u001b[49m\u001b[43m(\u001b[49m\u001b[43mX\u001b[49m\u001b[43m,\u001b[49m\u001b[43my\u001b[49m\u001b[43m)\u001b[49m\n\u001b[1;32m      5\u001b[0m \u001b[38;5;28;01mreturn\u001b[39;00m X_train, X_test, y_train, y_test\n",
      "Cell \u001b[0;32mIn [9], line 3\u001b[0m, in \u001b[0;36msplit_train_test\u001b[0;34m(X, y, test_size, random_state)\u001b[0m\n\u001b[1;32m      1\u001b[0m \u001b[38;5;28;01mdef\u001b[39;00m \u001b[38;5;21msplit_train_test\u001b[39m(X,y,test_size \u001b[38;5;241m=\u001b[39m \u001b[38;5;241m0.3\u001b[39m, random_state \u001b[38;5;241m=\u001b[39m \u001b[38;5;241m0\u001b[39m):\n\u001b[1;32m      2\u001b[0m     X_train, X_test, y_train, y_test \u001b[38;5;241m=\u001b[39m train_test_split(X, y, test_size\u001b[38;5;241m=\u001b[39m\u001b[38;5;241m0.3\u001b[39m, random_state\u001b[38;5;241m=\u001b[39m\u001b[38;5;241m0\u001b[39m)\n\u001b[0;32m----> 3\u001b[0m     X_train \u001b[38;5;241m=\u001b[39m \u001b[43mnp\u001b[49m\u001b[38;5;241;43m.\u001b[39;49m\u001b[43masarray\u001b[49m\u001b[43m(\u001b[49m\u001b[43mX_train\u001b[49m\u001b[43m)\u001b[49m\u001b[38;5;241;43m.\u001b[39;49m\u001b[43mastype\u001b[49m\u001b[43m(\u001b[49m\u001b[43mnp\u001b[49m\u001b[38;5;241;43m.\u001b[39;49m\u001b[43mfloat32\u001b[49m\u001b[43m)\u001b[49m\n\u001b[1;32m      4\u001b[0m     y_train \u001b[38;5;241m=\u001b[39m np\u001b[38;5;241m.\u001b[39masarray(y_train)\u001b[38;5;241m.\u001b[39mastype(np\u001b[38;5;241m.\u001b[39mfloat32)\n\u001b[1;32m      5\u001b[0m     X_test \u001b[38;5;241m=\u001b[39m np\u001b[38;5;241m.\u001b[39masarray(X_test)\u001b[38;5;241m.\u001b[39mastype(np\u001b[38;5;241m.\u001b[39mfloat32)\n",
      "\u001b[0;31mValueError\u001b[0m: setting an array element with a sequence."
     ]
    }
   ],
   "source": [
    "X_train, X_test, y_train, y_test = dataloading()"
   ]
  },
  {
   "cell_type": "code",
   "execution_count": null,
   "id": "0ace4210",
   "metadata": {},
   "outputs": [],
   "source": [
    "X_train = np.array(X_train)\n",
    "y_train = np.array(y_train)"
   ]
  },
  {
   "cell_type": "code",
   "execution_count": null,
   "id": "da4e73cb",
   "metadata": {},
   "outputs": [],
   "source": [
    "len(X_train)"
   ]
  },
  {
   "cell_type": "code",
   "execution_count": null,
   "id": "329828ea",
   "metadata": {},
   "outputs": [],
   "source": [
    "X_train[0].shape"
   ]
  },
  {
   "cell_type": "code",
   "execution_count": null,
   "id": "2d74114e",
   "metadata": {},
   "outputs": [],
   "source": [
    "X_train.shape"
   ]
  },
  {
   "cell_type": "code",
   "execution_count": null,
   "id": "4ed823fa",
   "metadata": {},
   "outputs": [],
   "source": [
    "type(X_train)"
   ]
  },
  {
   "cell_type": "code",
   "execution_count": null,
   "id": "251acd5d",
   "metadata": {},
   "outputs": [],
   "source": [
    "type(X_train[0])"
   ]
  },
  {
   "cell_type": "code",
   "execution_count": null,
   "id": "407a753b",
   "metadata": {},
   "outputs": [],
   "source": [
    "type(X_train[0][0])"
   ]
  },
  {
   "cell_type": "code",
   "execution_count": null,
   "id": "308cf8f1",
   "metadata": {},
   "outputs": [],
   "source": [
    "type(X_train[0][0][0])"
   ]
  },
  {
   "cell_type": "code",
   "execution_count": null,
   "id": "90b07409",
   "metadata": {},
   "outputs": [],
   "source": [
    "type(X_train[0][0][0][0])"
   ]
  }
 ],
 "metadata": {
  "kernelspec": {
   "display_name": "Python 3 (ipykernel)",
   "language": "python",
   "name": "python3"
  },
  "language_info": {
   "codemirror_mode": {
    "name": "ipython",
    "version": 3
   },
   "file_extension": ".py",
   "mimetype": "text/x-python",
   "name": "python",
   "nbconvert_exporter": "python",
   "pygments_lexer": "ipython3",
   "version": "3.10.6"
  },
  "toc": {
   "base_numbering": 1,
   "nav_menu": {},
   "number_sections": true,
   "sideBar": true,
   "skip_h1_title": false,
   "title_cell": "Table of Contents",
   "title_sidebar": "Contents",
   "toc_cell": false,
   "toc_position": {},
   "toc_section_display": true,
   "toc_window_display": false
  }
 },
 "nbformat": 4,
 "nbformat_minor": 5
}
