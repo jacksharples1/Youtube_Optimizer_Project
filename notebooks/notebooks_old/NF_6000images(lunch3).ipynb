{
 "cells": [
  {
   "cell_type": "markdown",
   "id": "d640047c",
   "metadata": {},
   "source": [
    "# Load Images"
   ]
  },
  {
   "cell_type": "code",
   "execution_count": 1,
   "id": "c4f50ae6",
   "metadata": {},
   "outputs": [],
   "source": [
    "import os\n",
    "import matplotlib.pyplot as plt\n",
    "from sklearn.model_selection import train_test_split\n",
    "import numpy as np"
   ]
  },
  {
   "cell_type": "code",
   "execution_count": 2,
   "id": "ae5a18ba",
   "metadata": {},
   "outputs": [],
   "source": [
    "from google.cloud import storage\n",
    "from google.oauth2 import service_account"
   ]
  },
  {
   "cell_type": "code",
   "execution_count": 3,
   "id": "6b8a4ff6",
   "metadata": {},
   "outputs": [],
   "source": [
    "def get_images_to_folder():\n",
    "    BUCKET_NAME = \"mvp_youtube_optimizer\"\n",
    "    storage_dir = \"lunch3\"\n",
    "    local_dir = \"bucket_data_2/\" #Create this manually\n",
    "\n",
    "    my_credentials = service_account.Credentials.from_service_account_file(\"massive-pen-365111-8eaed18fb748.json\")\n",
    "\n",
    "    client = storage.Client(credentials=my_credentials)\n",
    "    bucket = client.bucket(BUCKET_NAME)\n",
    "    blob = bucket.blob(storage_dir)\n",
    "    \n",
    "    blobs = bucket.list_blobs(prefix =storage_dir)\n",
    "    for blob in blobs:\n",
    "        filename = blob.name.replace('/','_')\n",
    "        blob.download_to_filename(local_dir + filename)"
   ]
  },
  {
   "cell_type": "code",
   "execution_count": 4,
   "id": "649c58ad",
   "metadata": {},
   "outputs": [],
   "source": [
    "def load_images_from_folder(folder='/Users/nicolafriedrich/code/jacksharples1/youtube_optimizer/bucket_data_2'):\n",
    "    images = []\n",
    "    views = []\n",
    "    format_count = 0\n",
    "    duplicates_count = 0\n",
    "    video_ids = []\n",
    "    for filename in os.listdir(folder):\n",
    "        last_underscore = filename.rfind('_')\n",
    "        video_id = filename[len('lunch3'):last_underscore-1]\n",
    "        if video_id not in video_ids:\n",
    "            video_ids.append(video_id)\n",
    "            if len(filename)< len('lunch3')+1: #enter name of the folder in the bucket that contains the images\n",
    "                continue\n",
    "    \n",
    "            else:\n",
    "                img = plt.imread(os.path.join(folder,filename))\n",
    "                if img.shape != (180,320,3):\n",
    "                    format_count +=1\n",
    "                    continue\n",
    "                else:\n",
    "                    y = int(filename[last_underscore +1:])\n",
    "                    images.append(list(img))\n",
    "                    views.append(y)\n",
    "        else:\n",
    "            duplicates_count +=1\n",
    "            \n",
    "    return images, views\n",
    "\n"
   ]
  },
  {
   "cell_type": "code",
   "execution_count": 5,
   "id": "69a3e4fa",
   "metadata": {},
   "outputs": [],
   "source": [
    "def dataloading():\n",
    "    get_images_to_folder()\n",
    "    X,y = load_images_from_folder()\n",
    "    X_train, X_test, y_train, y_test = train_test_split(X, y, test_size=0.3, random_state=0)\n",
    "    X_train = np.array(X_train)\n",
    "    y_train = np.array(y_train)\n",
    "    X_test = np.array(X_test)\n",
    "    y_test = np.array(y_test)\n",
    "    return X_train, X_test, y_train, y_test"
   ]
  },
  {
   "cell_type": "code",
   "execution_count": 6,
   "id": "5a63ba3f",
   "metadata": {},
   "outputs": [],
   "source": [
    "X_train, X_test, y_train, y_test = dataloading()"
   ]
  },
  {
   "cell_type": "markdown",
   "id": "0abbb1eb",
   "metadata": {},
   "source": [
    "# Model"
   ]
  },
  {
   "cell_type": "code",
   "execution_count": 7,
   "id": "809eef09",
   "metadata": {},
   "outputs": [
    {
     "name": "stderr",
     "output_type": "stream",
     "text": [
      "2022-11-29 21:09:15.143244: I tensorflow/core/platform/cpu_feature_guard.cc:193] This TensorFlow binary is optimized with oneAPI Deep Neural Network Library (oneDNN) to use the following CPU instructions in performance-critical operations:  AVX2 FMA\n",
      "To enable them in other operations, rebuild TensorFlow with the appropriate compiler flags.\n"
     ]
    }
   ],
   "source": [
    "from keras.applications.xception import Xception\n",
    "from keras.layers import GlobalAveragePooling2D, Dense, Flatten\n",
    "from keras.models import Sequential"
   ]
  },
  {
   "cell_type": "code",
   "execution_count": 8,
   "id": "3fa9e1ae",
   "metadata": {},
   "outputs": [],
   "source": [
    "def base_model():\n",
    "    base_model = Xception(weights=\"imagenet\",input_shape = (180,320,3),include_top=False)\n",
    "    base_model.trainable = False\n",
    "    return base_model"
   ]
  },
  {
   "cell_type": "code",
   "execution_count": 9,
   "id": "dedbeeca",
   "metadata": {},
   "outputs": [],
   "source": [
    "def complete_model():\n",
    "    model = Sequential((\n",
    "        base_model(),\n",
    "        GlobalAveragePooling2D(),\n",
    "        Flatten(),\n",
    "        Dense(100,activation = 'relu'),\n",
    "        Dense(50,activation = 'relu'),\n",
    "        Dense(1,activation = 'linear')))\n",
    "    \n",
    "    model.compile(loss=\"mse\", optimizer='adam',\n",
    "                  metrics=[\"mae\"])\n",
    "    \n",
    "    return model  "
   ]
  },
  {
   "cell_type": "code",
   "execution_count": 10,
   "id": "98d547f2",
   "metadata": {},
   "outputs": [
    {
     "name": "stderr",
     "output_type": "stream",
     "text": [
      "2022-11-29 21:09:29.793623: I tensorflow/core/platform/cpu_feature_guard.cc:193] This TensorFlow binary is optimized with oneAPI Deep Neural Network Library (oneDNN) to use the following CPU instructions in performance-critical operations:  AVX2 FMA\n",
      "To enable them in other operations, rebuild TensorFlow with the appropriate compiler flags.\n"
     ]
    },
    {
     "name": "stdout",
     "output_type": "stream",
     "text": [
      "Model: \"sequential\"\n",
      "_________________________________________________________________\n",
      " Layer (type)                Output Shape              Param #   \n",
      "=================================================================\n",
      " xception (Functional)       (None, 6, 10, 2048)       20861480  \n",
      "                                                                 \n",
      " global_average_pooling2d (G  (None, 2048)             0         \n",
      " lobalAveragePooling2D)                                          \n",
      "                                                                 \n",
      " flatten (Flatten)           (None, 2048)              0         \n",
      "                                                                 \n",
      " dense (Dense)               (None, 100)               204900    \n",
      "                                                                 \n",
      " dense_1 (Dense)             (None, 50)                5050      \n",
      "                                                                 \n",
      " dense_2 (Dense)             (None, 1)                 51        \n",
      "                                                                 \n",
      "=================================================================\n",
      "Total params: 21,071,481\n",
      "Trainable params: 210,001\n",
      "Non-trainable params: 20,861,480\n",
      "_________________________________________________________________\n"
     ]
    }
   ],
   "source": [
    "model = complete_model()\n",
    "model.summary()"
   ]
  },
  {
   "cell_type": "code",
   "execution_count": 11,
   "id": "02822422",
   "metadata": {},
   "outputs": [
    {
     "data": {
      "text/plain": [
       "(3949, 180, 320, 3)"
      ]
     },
     "execution_count": 11,
     "metadata": {},
     "output_type": "execute_result"
    }
   ],
   "source": [
    "X_train.shape"
   ]
  },
  {
   "cell_type": "code",
   "execution_count": 12,
   "id": "06f0da8d",
   "metadata": {},
   "outputs": [],
   "source": [
    "from tensorflow.keras.callbacks import EarlyStopping\n",
    "es = EarlyStopping(patience = 15, restore_best_weights = True)"
   ]
  },
  {
   "cell_type": "code",
   "execution_count": null,
   "id": "47bc0da7",
   "metadata": {},
   "outputs": [
    {
     "name": "stdout",
     "output_type": "stream",
     "text": [
      "Epoch 1/1000\n",
      "198/198 [==============================] - 629s 3s/step - loss: 102792836415488.0000 - mae: 2321517.7500 - val_loss: 100885233401856.0000 - val_mae: 2541534.7500\n",
      "Epoch 2/1000\n",
      "198/198 [==============================] - 1570s 8s/step - loss: 101997034340352.0000 - mae: 2348415.2500 - val_loss: 99654725271552.0000 - val_mae: 2638466.0000\n",
      "Epoch 3/1000\n",
      "198/198 [==============================] - 730s 4s/step - loss: 101068935528448.0000 - mae: 2495877.5000 - val_loss: 98941727145984.0000 - val_mae: 2805534.2500\n",
      "Epoch 4/1000\n",
      "198/198 [==============================] - 759s 4s/step - loss: 100652399198208.0000 - mae: 2607747.2500 - val_loss: 98552059527168.0000 - val_mae: 2915373.2500\n",
      "Epoch 5/1000\n",
      "198/198 [==============================] - 738s 4s/step - loss: 100398325039104.0000 - mae: 2683195.0000 - val_loss: 98253357973504.0000 - val_mae: 2948328.7500\n",
      "Epoch 6/1000\n",
      "198/198 [==============================] - 750s 4s/step - loss: 100168158412800.0000 - mae: 2707850.2500 - val_loss: 97951200313344.0000 - val_mae: 2981656.7500\n",
      "Epoch 7/1000\n",
      "198/198 [==============================] - 739s 4s/step - loss: 99954458624000.0000 - mae: 2756735.5000 - val_loss: 97656382685184.0000 - val_mae: 2992267.7500\n",
      "Epoch 8/1000\n",
      "198/198 [==============================] - 769s 4s/step - loss: 99731028049920.0000 - mae: 2763290.5000 - val_loss: 97348042620928.0000 - val_mae: 3026996.5000\n",
      "Epoch 9/1000\n",
      "198/198 [==============================] - 743s 4s/step - loss: 99519509299200.0000 - mae: 2802647.5000 - val_loss: 97062695731200.0000 - val_mae: 3050767.5000\n",
      "Epoch 10/1000\n",
      "198/198 [==============================] - 696s 4s/step - loss: 99328651689984.0000 - mae: 2833761.7500 - val_loss: 96793522077696.0000 - val_mae: 3057446.2500\n",
      "Epoch 11/1000\n",
      "198/198 [==============================] - 742s 4s/step - loss: 99153153622016.0000 - mae: 2842180.0000 - val_loss: 96551267467264.0000 - val_mae: 3076682.2500\n",
      "Epoch 12/1000\n",
      "198/198 [==============================] - 625s 3s/step - loss: 98997402337280.0000 - mae: 2867334.0000 - val_loss: 96327786561536.0000 - val_mae: 3104403.0000\n",
      "Epoch 13/1000\n",
      "198/198 [==============================] - 639s 3s/step - loss: 98858386325504.0000 - mae: 2889330.0000 - val_loss: 96139294539776.0000 - val_mae: 3110917.2500\n",
      "Epoch 14/1000\n",
      "198/198 [==============================] - 661s 3s/step - loss: 98736055255040.0000 - mae: 2928030.5000 - val_loss: 95958813638656.0000 - val_mae: 3125983.5000\n",
      "Epoch 15/1000\n",
      "198/198 [==============================] - 675s 3s/step - loss: 98634267885568.0000 - mae: 2923791.7500 - val_loss: 95823849324544.0000 - val_mae: 3108656.2500\n",
      "Epoch 16/1000\n",
      "198/198 [==============================] - 668s 3s/step - loss: 98523009777664.0000 - mae: 2934835.2500 - val_loss: 95662016299008.0000 - val_mae: 3143919.5000\n",
      "Epoch 17/1000\n",
      "198/198 [==============================] - 649s 3s/step - loss: 98429720068096.0000 - mae: 2979874.7500 - val_loss: 95549155966976.0000 - val_mae: 3122078.7500\n",
      "Epoch 18/1000\n",
      "198/198 [==============================] - 650s 3s/step - loss: 98353014636544.0000 - mae: 2977258.0000 - val_loss: 95444088651776.0000 - val_mae: 3111731.7500\n",
      "Epoch 19/1000\n",
      "198/198 [==============================] - 643s 3s/step - loss: 98255438348288.0000 - mae: 2948272.2500 - val_loss: 95300416962560.0000 - val_mae: 3141865.7500\n",
      "Epoch 20/1000\n",
      "198/198 [==============================] - 652s 3s/step - loss: 98167391518720.0000 - mae: 2969332.2500 - val_loss: 95173279219712.0000 - val_mae: 3151725.0000\n",
      "Epoch 21/1000\n",
      "198/198 [==============================] - 665s 3s/step - loss: 98077885071360.0000 - mae: 2985922.0000 - val_loss: 95039212486656.0000 - val_mae: 3171477.7500\n",
      "Epoch 22/1000\n",
      "198/198 [==============================] - 647s 3s/step - loss: 97984519864320.0000 - mae: 2995789.7500 - val_loss: 94913114931200.0000 - val_mae: 3174782.7500\n",
      "Epoch 23/1000\n",
      "198/198 [==============================] - 635s 3s/step - loss: 97898972839936.0000 - mae: 2995488.5000 - val_loss: 94799172468736.0000 - val_mae: 3176441.7500\n",
      "Epoch 24/1000\n",
      "198/198 [==============================] - 636s 3s/step - loss: 97795952345088.0000 - mae: 3014703.7500 - val_loss: 94669711081472.0000 - val_mae: 3177190.7500\n",
      "Epoch 25/1000\n",
      "198/198 [==============================] - 636s 3s/step - loss: 97699592404992.0000 - mae: 2994141.0000 - val_loss: 94548378255360.0000 - val_mae: 3182452.7500\n",
      "Epoch 26/1000\n",
      "198/198 [==============================] - 634s 3s/step - loss: 97598341906432.0000 - mae: 3023569.2500 - val_loss: 94421584445440.0000 - val_mae: 3183122.7500\n",
      "Epoch 27/1000\n",
      "198/198 [==============================] - 658s 3s/step - loss: 97518289420288.0000 - mae: 3010058.5000 - val_loss: 94292148224000.0000 - val_mae: 3192466.5000\n",
      "Epoch 28/1000\n",
      "198/198 [==============================] - 647s 3s/step - loss: 97411997368320.0000 - mae: 3001392.2500 - val_loss: 94160874897408.0000 - val_mae: 3195416.2500\n",
      "Epoch 29/1000\n",
      "198/198 [==============================] - 634s 3s/step - loss: 97293130792960.0000 - mae: 3017300.7500 - val_loss: 94010366492672.0000 - val_mae: 3218897.2500\n",
      "Epoch 30/1000\n",
      "198/198 [==============================] - 633s 3s/step - loss: 97187887316992.0000 - mae: 3030795.0000 - val_loss: 93876157153280.0000 - val_mae: 3215038.5000\n",
      "Epoch 31/1000\n",
      "198/198 [==============================] - 634s 3s/step - loss: 97087635062784.0000 - mae: 3043252.5000 - val_loss: 93753230491648.0000 - val_mae: 3185428.5000\n",
      "Epoch 32/1000\n",
      "198/198 [==============================] - 633s 3s/step - loss: 96954121977856.0000 - mae: 3016769.7500 - val_loss: 93608703164416.0000 - val_mae: 3192361.5000\n",
      "Epoch 33/1000\n",
      "198/198 [==============================] - 639s 3s/step - loss: 96831950290944.0000 - mae: 2995804.0000 - val_loss: 93444345167872.0000 - val_mae: 3225571.2500\n",
      "Epoch 34/1000\n",
      "198/198 [==============================] - 667s 3s/step - loss: 96717496123392.0000 - mae: 3060727.2500 - val_loss: 93303148118016.0000 - val_mae: 3212464.5000\n",
      "Epoch 35/1000\n",
      "198/198 [==============================] - 633s 3s/step - loss: 96580308828160.0000 - mae: 3050595.5000 - val_loss: 93175389618176.0000 - val_mae: 3170365.5000\n",
      "Epoch 36/1000\n",
      "198/198 [==============================] - 633s 3s/step - loss: 96469268824064.0000 - mae: 2995452.7500 - val_loss: 93018354876416.0000 - val_mae: 3186409.7500\n",
      "Epoch 37/1000\n",
      "198/198 [==============================] - 632s 3s/step - loss: 96331460771840.0000 - mae: 3005743.0000 - val_loss: 92837697814528.0000 - val_mae: 3220238.5000\n",
      "Epoch 38/1000\n",
      "198/198 [==============================] - 632s 3s/step - loss: 96203534499840.0000 - mae: 3065146.5000 - val_loss: 92704142786560.0000 - val_mae: 3173878.0000\n",
      "Epoch 39/1000\n",
      "198/198 [==============================] - 630s 3s/step - loss: 96071153876992.0000 - mae: 3035916.5000 - val_loss: 92542485921792.0000 - val_mae: 3177544.2500\n",
      "Epoch 40/1000\n",
      "198/198 [==============================] - 662s 3s/step - loss: 95922709069824.0000 - mae: 3003980.2500 - val_loss: 92380678062080.0000 - val_mae: 3185746.2500\n",
      "Epoch 41/1000\n",
      "198/198 [==============================] - 633s 3s/step - loss: 95786780065792.0000 - mae: 2998401.7500 - val_loss: 92205851082752.0000 - val_mae: 3219626.7500\n",
      "Epoch 42/1000\n",
      "198/198 [==============================] - 640s 3s/step - loss: 95649232060416.0000 - mae: 3059803.0000 - val_loss: 92064830193664.0000 - val_mae: 3190865.7500\n",
      "Epoch 43/1000\n",
      "198/198 [==============================] - 639s 3s/step - loss: 95513277890560.0000 - mae: 3018216.5000 - val_loss: 91889491509248.0000 - val_mae: 3198610.2500\n",
      "Epoch 44/1000\n",
      "198/198 [==============================] - 638s 3s/step - loss: 95368909946880.0000 - mae: 3028215.7500 - val_loss: 91709455204352.0000 - val_mae: 3210943.2500\n",
      "Epoch 45/1000\n",
      "198/198 [==============================] - 632s 3s/step - loss: 95237242355712.0000 - mae: 3020648.5000 - val_loss: 91560817459200.0000 - val_mae: 3210071.2500\n",
      "Epoch 46/1000\n",
      "198/198 [==============================] - 635s 3s/step - loss: 95094199812096.0000 - mae: 3054643.7500 - val_loss: 91403354898432.0000 - val_mae: 3196707.0000\n",
      "Epoch 47/1000\n",
      "198/198 [==============================] - 653s 3s/step - loss: 94951090159616.0000 - mae: 3007287.7500 - val_loss: 91245120585728.0000 - val_mae: 3205152.0000\n",
      "Epoch 48/1000\n",
      "198/198 [==============================] - 635s 3s/step - loss: 94812720070656.0000 - mae: 3061705.5000 - val_loss: 91122462359552.0000 - val_mae: 3181331.5000\n",
      "Epoch 49/1000\n",
      "198/198 [==============================] - 637s 3s/step - loss: 94680876318720.0000 - mae: 3024785.7500 - val_loss: 90958389575680.0000 - val_mae: 3193493.0000\n",
      "Epoch 50/1000\n",
      "198/198 [==============================] - 638s 3s/step - loss: 94533513641984.0000 - mae: 3008383.0000 - val_loss: 90823475593216.0000 - val_mae: 3202894.5000\n",
      "Epoch 51/1000\n",
      "198/198 [==============================] - 629s 3s/step - loss: 94387618971648.0000 - mae: 3038508.5000 - val_loss: 90669653688320.0000 - val_mae: 3190637.0000\n",
      "Epoch 52/1000\n",
      "198/198 [==============================] - 636s 3s/step - loss: 94254156218368.0000 - mae: 3033398.2500 - val_loss: 90492377235456.0000 - val_mae: 3206461.2500\n",
      "Epoch 53/1000\n",
      "198/198 [==============================] - 608s 3s/step - loss: 94126942978048.0000 - mae: 3019303.7500 - val_loss: 90372831182848.0000 - val_mae: 3194317.0000\n",
      "Epoch 54/1000\n",
      " 95/198 [=============>................] - ETA: 4:00 - loss: 132907729420288.0000 - mae: 3155139.7500"
     ]
    }
   ],
   "source": [
    "history = model.fit(X_train,y_train, epochs = 1000,batch_size = 16,validation_split=0.2)"
   ]
  },
  {
   "cell_type": "markdown",
   "id": "a9a46b61",
   "metadata": {},
   "source": [
    "# Baseline model"
   ]
  },
  {
   "cell_type": "code",
   "execution_count": 7,
   "id": "9fc02540",
   "metadata": {},
   "outputs": [],
   "source": [
    "from sklearn.metrics import mean_absolute_error"
   ]
  },
  {
   "cell_type": "code",
   "execution_count": 9,
   "id": "ff8e850a",
   "metadata": {},
   "outputs": [
    {
     "data": {
      "text/plain": [
       "3377610.4113178654"
      ]
     },
     "execution_count": 9,
     "metadata": {},
     "output_type": "execute_result"
    }
   ],
   "source": [
    "base_mae = np.mean(np.abs(y_train - np.mean(y_train)))\n",
    "base_mae"
   ]
  },
  {
   "cell_type": "code",
   "execution_count": 11,
   "id": "3e821f21",
   "metadata": {},
   "outputs": [
    {
     "data": {
      "text/plain": [
       "0.24753466489690504"
      ]
     },
     "execution_count": 11,
     "metadata": {},
     "output_type": "execute_result"
    }
   ],
   "source": [
    "improvement = (base_mae - 2541534.7500)/base_mae\n",
    "improvement"
   ]
  }
 ],
 "metadata": {
  "kernelspec": {
   "display_name": "Python 3 (ipykernel)",
   "language": "python",
   "name": "python3"
  },
  "language_info": {
   "codemirror_mode": {
    "name": "ipython",
    "version": 3
   },
   "file_extension": ".py",
   "mimetype": "text/x-python",
   "name": "python",
   "nbconvert_exporter": "python",
   "pygments_lexer": "ipython3",
   "version": "3.10.6"
  },
  "toc": {
   "base_numbering": 1,
   "nav_menu": {},
   "number_sections": true,
   "sideBar": true,
   "skip_h1_title": false,
   "title_cell": "Table of Contents",
   "title_sidebar": "Contents",
   "toc_cell": false,
   "toc_position": {},
   "toc_section_display": true,
   "toc_window_display": false
  }
 },
 "nbformat": 4,
 "nbformat_minor": 5
}
