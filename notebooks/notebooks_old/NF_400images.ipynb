{
 "cells": [
  {
   "cell_type": "markdown",
   "id": "2aadbc25",
   "metadata": {},
   "source": [
    "# Load Images"
   ]
  },
  {
   "cell_type": "code",
   "execution_count": 1,
   "id": "c4f50ae6",
   "metadata": {},
   "outputs": [],
   "source": [
    "import os\n",
    "import matplotlib.pyplot as plt\n",
    "from sklearn.model_selection import train_test_split\n",
    "import numpy as np"
   ]
  },
  {
   "cell_type": "code",
   "execution_count": 2,
   "id": "ae5a18ba",
   "metadata": {},
   "outputs": [],
   "source": [
    "from google.cloud import storage\n",
    "from google.oauth2 import service_account"
   ]
  },
  {
   "cell_type": "code",
   "execution_count": 3,
   "id": "6b8a4ff6",
   "metadata": {},
   "outputs": [],
   "source": [
    "def get_images_to_folder():\n",
    "    BUCKET_NAME = \"youtube_optimizer_data\"\n",
    "    storage_dir = \"thumbnail_images\"\n",
    "    local_dir = \"bucket_data/\" #Create this manually\n",
    "\n",
    "    my_credentials = service_account.Credentials.from_service_account_file(\"massive-pen-365111-8eaed18fb748.json\")\n",
    "\n",
    "    client = storage.Client(credentials=my_credentials)\n",
    "    bucket = client.bucket(BUCKET_NAME)\n",
    "    blob = bucket.blob(storage_dir)\n",
    "    \n",
    "    blobs = bucket.list_blobs(prefix =storage_dir)\n",
    "    for blob in blobs:\n",
    "        filename = blob.name.replace('/','_')\n",
    "        blob.download_to_filename(local_dir + filename)"
   ]
  },
  {
   "cell_type": "code",
   "execution_count": 4,
   "id": "e190907c",
   "metadata": {},
   "outputs": [
    {
     "data": {
      "text/plain": [
       "17"
      ]
     },
     "execution_count": 4,
     "metadata": {},
     "output_type": "execute_result"
    }
   ],
   "source": [
    "len('thumbnail_images_')"
   ]
  },
  {
   "cell_type": "code",
   "execution_count": 5,
   "id": "649c58ad",
   "metadata": {},
   "outputs": [],
   "source": [
    "def load_images_from_folder(folder='/Users/nicolafriedrich/code/jacksharples1/youtube_optimizer/bucket_data'):\n",
    "    images = []\n",
    "    views = []\n",
    "    for filename in os.listdir(folder):\n",
    "        if len(filename)< len('thumbnail_images_')+1:\n",
    "            continue\n",
    "\n",
    "        else:\n",
    "            img = plt.imread(os.path.join(folder,filename))\n",
    "            if img.shape != (180,320,3):\n",
    "                print(img.shape)\n",
    "                continue\n",
    "            else:\n",
    "                last_underscore = filename.rfind('_')\n",
    "                y = int(filename[last_underscore +1:])\n",
    "                images.append(list(img))\n",
    "                views.append(y)\n",
    "    return images, views\n"
   ]
  },
  {
   "cell_type": "code",
   "execution_count": 6,
   "id": "2ea3b8f9",
   "metadata": {},
   "outputs": [],
   "source": [
    "#imgs,views = load_images_from_folder()"
   ]
  },
  {
   "cell_type": "code",
   "execution_count": 7,
   "id": "aa0f5fd7",
   "metadata": {},
   "outputs": [],
   "source": [
    "#np.array(imgs).shape"
   ]
  },
  {
   "cell_type": "code",
   "execution_count": 8,
   "id": "d3f3ad21",
   "metadata": {},
   "outputs": [],
   "source": [
    "#len(imgs),imgs[0].shape,type(imgs),type(imgs[0])"
   ]
  },
  {
   "cell_type": "code",
   "execution_count": 9,
   "id": "b42db08e",
   "metadata": {},
   "outputs": [],
   "source": [
    "#def split_train_test(X,y,test_size = 0.3, random_state = 0):\n",
    "#    return train_test_split(X, y, test_size=0.3, random_state=0)"
   ]
  },
  {
   "cell_type": "code",
   "execution_count": 25,
   "id": "69a3e4fa",
   "metadata": {},
   "outputs": [],
   "source": [
    "def dataloading():\n",
    "    get_images_to_folder()\n",
    "    X,y = load_images_from_folder()\n",
    "    #X_train, X_test, y_train, y_test = train_test_split(X, y, test_size=0.3, random_state=0)\n",
    "    X_train, X_test, y_train, y_test = train_test_split(X, y, test_size=0.3, random_state=0)\n",
    "    X_train = np.array(X_train)\n",
    "    y_train = np.array(y_train)\n",
    "    X_test = np.array(X_test)\n",
    "    y_test = np.array(y_test)\n",
    "    return X_train, X_test, y_train, y_test"
   ]
  },
  {
   "cell_type": "code",
   "execution_count": 26,
   "id": "5a63ba3f",
   "metadata": {},
   "outputs": [
    {
     "name": "stdout",
     "output_type": "stream",
     "text": [
      "(90, 120, 3)\n",
      "(90, 120, 3)\n",
      "(90, 120, 3)\n"
     ]
    }
   ],
   "source": [
    "X_train, X_test, y_train, y_test = dataloading()"
   ]
  },
  {
   "cell_type": "code",
   "execution_count": 27,
   "id": "f6a4557c",
   "metadata": {},
   "outputs": [
    {
     "data": {
      "text/plain": [
       "(441, 180, 320, 3)"
      ]
     },
     "execution_count": 27,
     "metadata": {},
     "output_type": "execute_result"
    }
   ],
   "source": [
    "X_train.shape"
   ]
  },
  {
   "cell_type": "code",
   "execution_count": null,
   "id": "1e3e01d5",
   "metadata": {},
   "outputs": [],
   "source": []
  },
  {
   "cell_type": "code",
   "execution_count": 13,
   "id": "e99f5281",
   "metadata": {},
   "outputs": [],
   "source": [
    "#np.unique(np.array([array.shape for array in X_train]), axis=0, return_counts=True)"
   ]
  },
  {
   "cell_type": "code",
   "execution_count": 14,
   "id": "b4d30271",
   "metadata": {},
   "outputs": [],
   "source": [
    "#X_train[0].shape, X_train[193].shape"
   ]
  },
  {
   "cell_type": "code",
   "execution_count": 15,
   "id": "595dd842",
   "metadata": {},
   "outputs": [],
   "source": [
    "#X_train = np.concatenate(X_train, axis=0)"
   ]
  },
  {
   "cell_type": "code",
   "execution_count": 16,
   "id": "f3d5c904",
   "metadata": {},
   "outputs": [],
   "source": [
    "#X_train[0][0]"
   ]
  },
  {
   "cell_type": "markdown",
   "id": "6afb7195",
   "metadata": {},
   "source": [
    "# Model"
   ]
  },
  {
   "cell_type": "code",
   "execution_count": 17,
   "id": "26773dda",
   "metadata": {},
   "outputs": [
    {
     "name": "stderr",
     "output_type": "stream",
     "text": [
      "2022-11-29 16:52:20.999286: I tensorflow/core/platform/cpu_feature_guard.cc:193] This TensorFlow binary is optimized with oneAPI Deep Neural Network Library (oneDNN) to use the following CPU instructions in performance-critical operations:  AVX2 FMA\n",
      "To enable them in other operations, rebuild TensorFlow with the appropriate compiler flags.\n"
     ]
    }
   ],
   "source": [
    "from keras.applications.xception import Xception\n",
    "from keras.layers import GlobalAveragePooling2D, Dense, Flatten\n",
    "from keras.models import Sequential\n",
    "#from keras.optimizers import SGD\n",
    "#import numpy as np"
   ]
  },
  {
   "cell_type": "code",
   "execution_count": 18,
   "id": "4258dfd0",
   "metadata": {},
   "outputs": [],
   "source": [
    "def base_model():\n",
    "    base_model = Xception(weights=\"imagenet\",input_shape = (180,320,3),include_top=False)\n",
    "    base_model.trainable = False\n",
    "    return base_model"
   ]
  },
  {
   "cell_type": "code",
   "execution_count": 19,
   "id": "0199485a",
   "metadata": {},
   "outputs": [],
   "source": [
    "def complete_model():\n",
    "    model = Sequential((\n",
    "        base_model(),\n",
    "        GlobalAveragePooling2D(),\n",
    "        Flatten(),\n",
    "        Dense(50,activation = 'relu'),\n",
    "        Dense(1,activation = 'linear')))\n",
    "    \n",
    "    model.compile(loss=\"mse\", optimizer='adam',\n",
    "                  metrics=[\"mae\"])\n",
    "    \n",
    "    return model  "
   ]
  },
  {
   "cell_type": "code",
   "execution_count": 20,
   "id": "065a3a82",
   "metadata": {},
   "outputs": [
    {
     "name": "stderr",
     "output_type": "stream",
     "text": [
      "2022-11-29 16:52:29.805221: I tensorflow/core/platform/cpu_feature_guard.cc:193] This TensorFlow binary is optimized with oneAPI Deep Neural Network Library (oneDNN) to use the following CPU instructions in performance-critical operations:  AVX2 FMA\n",
      "To enable them in other operations, rebuild TensorFlow with the appropriate compiler flags.\n"
     ]
    },
    {
     "name": "stdout",
     "output_type": "stream",
     "text": [
      "Model: \"sequential\"\n",
      "_________________________________________________________________\n",
      " Layer (type)                Output Shape              Param #   \n",
      "=================================================================\n",
      " xception (Functional)       (None, 6, 10, 2048)       20861480  \n",
      "                                                                 \n",
      " global_average_pooling2d (G  (None, 2048)             0         \n",
      " lobalAveragePooling2D)                                          \n",
      "                                                                 \n",
      " flatten (Flatten)           (None, 2048)              0         \n",
      "                                                                 \n",
      " dense (Dense)               (None, 50)                102450    \n",
      "                                                                 \n",
      " dense_1 (Dense)             (None, 1)                 51        \n",
      "                                                                 \n",
      "=================================================================\n",
      "Total params: 20,963,981\n",
      "Trainable params: 102,501\n",
      "Non-trainable params: 20,861,480\n",
      "_________________________________________________________________\n"
     ]
    }
   ],
   "source": [
    "model = complete_model()\n",
    "model.summary()"
   ]
  },
  {
   "cell_type": "code",
   "execution_count": 21,
   "id": "e82a9bf0",
   "metadata": {},
   "outputs": [],
   "source": [
    "#X_train  = np.array(X_train)\n",
    "#y_train = np.array(y_train)"
   ]
  },
  {
   "cell_type": "code",
   "execution_count": 22,
   "id": "a320a795",
   "metadata": {},
   "outputs": [
    {
     "data": {
      "text/plain": [
       "441"
      ]
     },
     "execution_count": 22,
     "metadata": {},
     "output_type": "execute_result"
    }
   ],
   "source": [
    "len(y_train)"
   ]
  },
  {
   "cell_type": "code",
   "execution_count": 28,
   "id": "02552152",
   "metadata": {},
   "outputs": [
    {
     "data": {
      "text/plain": [
       "numpy.ndarray"
      ]
     },
     "execution_count": 28,
     "metadata": {},
     "output_type": "execute_result"
    }
   ],
   "source": [
    "type(y_train)"
   ]
  },
  {
   "cell_type": "code",
   "execution_count": 29,
   "id": "f6f4c494",
   "metadata": {},
   "outputs": [
    {
     "name": "stdout",
     "output_type": "stream",
     "text": [
      "Epoch 1/5\n",
      "11/11 [==============================] - 98s 9s/step - loss: 2541832512733184.0000 - mae: 11020399.0000 - val_loss: 2722584600772608.0000 - val_mae: 14613054.0000\n",
      "Epoch 2/5\n",
      "11/11 [==============================] - 84s 8s/step - loss: 2541829291507712.0000 - mae: 11020216.0000 - val_loss: 2722578426757120.0000 - val_mae: 14612857.0000\n",
      "Epoch 3/5\n",
      "11/11 [==============================] - 86s 8s/step - loss: 2541825533411328.0000 - mae: 11020050.0000 - val_loss: 2722571715870720.0000 - val_mae: 14612653.0000\n",
      "Epoch 4/5\n",
      "11/11 [==============================] - 73s 7s/step - loss: 2541820433137664.0000 - mae: 11019891.0000 - val_loss: 2722564736548864.0000 - val_mae: 14612454.0000\n",
      "Epoch 5/5\n",
      "11/11 [==============================] - 77s 7s/step - loss: 2541815601299456.0000 - mae: 11019690.0000 - val_loss: 2722556683485184.0000 - val_mae: 14612217.0000\n"
     ]
    }
   ],
   "source": [
    "history = model.fit(X_train,y_train, epochs = 5,validation_split=0.2)"
   ]
  },
  {
   "cell_type": "markdown",
   "id": "99e22efa",
   "metadata": {},
   "source": [
    "# Baseline model"
   ]
  },
  {
   "cell_type": "code",
   "execution_count": 30,
   "id": "ed91098b",
   "metadata": {},
   "outputs": [],
   "source": [
    "from sklearn.metrics import mean_absolute_error"
   ]
  },
  {
   "cell_type": "code",
   "execution_count": 31,
   "id": "1751e4d9",
   "metadata": {},
   "outputs": [
    {
     "data": {
      "text/plain": [
       "18506997.37747132"
      ]
     },
     "execution_count": 31,
     "metadata": {},
     "output_type": "execute_result"
    }
   ],
   "source": [
    "np.mean(np.abs(y_train - np.mean(y_train)))"
   ]
  }
 ],
 "metadata": {
  "kernelspec": {
   "display_name": "Python 3",
   "language": "python",
   "name": "python3"
  },
  "language_info": {
   "codemirror_mode": {
    "name": "ipython",
    "version": 3
   },
   "file_extension": ".py",
   "mimetype": "text/x-python",
   "name": "python",
   "nbconvert_exporter": "python",
   "pygments_lexer": "ipython3",
   "version": "3.10.6 (main, Oct 10 2022, 11:54:32) [Clang 13.1.6 (clang-1316.0.21.2.5)]"
  },
  "toc": {
   "base_numbering": 1,
   "nav_menu": {},
   "number_sections": true,
   "sideBar": true,
   "skip_h1_title": false,
   "title_cell": "Table of Contents",
   "title_sidebar": "Contents",
   "toc_cell": false,
   "toc_position": {},
   "toc_section_display": true,
   "toc_window_display": false
  },
  "vscode": {
   "interpreter": {
    "hash": "9f98c6e7d39b51dc911874cc304dd26f3d43a5c45e739f79386bfd2f34047d64"
   }
  }
 },
 "nbformat": 4,
 "nbformat_minor": 5
}
