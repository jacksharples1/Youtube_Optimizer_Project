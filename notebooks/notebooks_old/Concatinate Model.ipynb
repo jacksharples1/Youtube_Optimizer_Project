{
 "cells": [
  {
   "cell_type": "markdown",
   "id": "5b38fcba-bdd7-49e4-abd5-4a2a30dc3843",
   "metadata": {},
   "source": [
    "# Installs and Requirements\n"
   ]
  },
  {
   "cell_type": "code",
   "execution_count": 6,
   "id": "fa99ec8b-9560-4e97-b1ed-2784e83aa79f",
   "metadata": {},
   "outputs": [],
   "source": [
    "from tensorflow.keras.layers import Normalization\n",
    "from tensorflow.keras import Sequential,layers\n",
    "from tensorflow.keras.layers import Dense, Flatten, SimpleRNN, LSTM, GRU,Dropout\n",
    "from tensorflow.keras.preprocessing.sequence import pad_sequences\n",
    "from tensorflow.keras.preprocessing.text import text_to_word_sequence\n",
    "from tensorflow.keras.preprocessing.text import Tokenizer\n",
    "from tensorflow.keras import layers, Sequential\n",
    "from tensorflow.keras.optimizers import Adam\n",
    "from tensorflow.keras import models\n",
    "from tensorflow.keras.applications.xception import Xception\n",
    "from tensorflow.keras.layers import GlobalAveragePooling2D, AveragePooling2D, Dense, Flatten\n",
    "from tensorflow.keras.applications.xception import preprocess_input\n",
    "from tensorflow.keras.callbacks import EarlyStopping\n",
    "from tqdm import tqdm\n",
    "import numpy as np\n",
    "import pandas as pd\n",
    "from langdetect import detect\n",
    "import re\n",
    "from nltk import word_tokenize\n",
    "from nltk.stem import WordNetLemmatizer\n",
    "import string # \"string\" module is already installed with Python\n",
    "import matplotlib.pyplot as plt\n",
    "from sklearn.model_selection import train_test_split\n",
    "import cv2\n",
    "from google.cloud import storage\n"
   ]
  },
  {
   "cell_type": "code",
   "execution_count": 7,
   "id": "903417cd-53af-47db-94ef-96566408a736",
   "metadata": {},
   "outputs": [
    {
     "ename": "NameError",
     "evalue": "name 'nltk' is not defined",
     "output_type": "error",
     "traceback": [
      "\u001b[0;31m---------------------------------------------------------------------------\u001b[0m",
      "\u001b[0;31mNameError\u001b[0m                                 Traceback (most recent call last)",
      "Cell \u001b[0;32mIn [7], line 1\u001b[0m\n\u001b[0;32m----> 1\u001b[0m nltk\u001b[39m.\u001b[39mdownload(\u001b[39m'\u001b[39m\u001b[39mpunkt\u001b[39m\u001b[39m'\u001b[39m)\n\u001b[1;32m      2\u001b[0m nltk\u001b[39m.\u001b[39mdownload(\u001b[39m'\u001b[39m\u001b[39mwordnet\u001b[39m\u001b[39m'\u001b[39m)\n\u001b[1;32m      3\u001b[0m nltk\u001b[39m.\u001b[39mdownload(\u001b[39m'\u001b[39m\u001b[39momw-1.4\u001b[39m\u001b[39m'\u001b[39m)\n",
      "\u001b[0;31mNameError\u001b[0m: name 'nltk' is not defined"
     ]
    }
   ],
   "source": [
    "nltk.download('punkt')\n",
    "nltk.download('wordnet')\n",
    "nltk.download('omw-1.4')"
   ]
  },
  {
   "cell_type": "markdown",
   "id": "d8c2fc90-4cda-437a-b5f9-5a2fa2bb2d78",
   "metadata": {},
   "source": [
    "## Import Data"
   ]
  },
  {
   "cell_type": "code",
   "execution_count": 8,
   "id": "7308b4d1",
   "metadata": {},
   "outputs": [],
   "source": [
    "data = 'small'"
   ]
  },
  {
   "cell_type": "code",
   "execution_count": 10,
   "id": "32e9e74b-1d9e-4860-8428-16a043b093c9",
   "metadata": {},
   "outputs": [],
   "source": [
    "df = pd.read_csv(f'../raw_data/{data}.csv')"
   ]
  },
  {
   "cell_type": "code",
   "execution_count": 11,
   "id": "6afa8fb0-7903-4a5e-a013-2c421fc99774",
   "metadata": {},
   "outputs": [
    {
     "data": {
      "text/plain": [
       "28"
      ]
     },
     "execution_count": 11,
     "metadata": {},
     "output_type": "execute_result"
    }
   ],
   "source": [
    "len(df)"
   ]
  },
  {
   "cell_type": "markdown",
   "id": "04b099c7-bd98-432a-95fe-cdea745b8f6c",
   "metadata": {
    "tags": []
   },
   "source": [
    "# Preprocessing"
   ]
  },
  {
   "cell_type": "markdown",
   "id": "567a501d-2161-47b6-ac0c-9aadaa2b220a",
   "metadata": {},
   "source": [
    "## Functions"
   ]
  },
  {
   "cell_type": "code",
   "execution_count": 12,
   "id": "d945a2e3-4d24-432d-bf48-b01d518fb18e",
   "metadata": {},
   "outputs": [],
   "source": [
    "'''drop duplicates'''\n",
    "def drop_duplicate_ids(df):\n",
    "    df = df.drop_duplicates(subset=['id'])\n",
    "    return df\n",
    "\n",
    "'''drop y nans'''\n",
    "def drop_y_nas(df):\n",
    "    df = df.dropna(subset=['views'])\n",
    "    return df\n",
    "\n",
    "'''detect with try-expect'''\n",
    "def detect_except(x):\n",
    "    try:\n",
    "        lang = detect(x)\n",
    "    except:\n",
    "        lang = 'Other'\n",
    "        \n",
    "    return lang\n",
    "\n",
    "\n",
    "'''first remove of non-english rows'''\n",
    "def strip_english(df):\n",
    "    '''basic strip'''\n",
    "    df['detect'] = df['title'].apply(detect_except)\n",
    "    \n",
    "    df = df[df['detect'] == 'en'] \n",
    "    return df\n",
    "\n",
    "'''reduce dataframe to title and views'''\n",
    "def reduce_features(df):\n",
    "    df = df.loc[:, ['title', 'views']]\n",
    "    return df\n",
    "\n",
    "'''completed dataframe preprocessing'''\n",
    "def df_preprocess(df):\n",
    "    df = drop_duplicates(df)\n",
    "    df = strip_english(df)\n",
    "    df = reduce_features(df)\n",
    "    return df\n",
    "\n",
    "'''removes emojis'''\n",
    "def emoji_strip(text):\n",
    "    emoji_pattern = re.compile(\"[\"\n",
    "            u\"\\U0001F600-\\U0001F64F\"  # emoticons\n",
    "            u\"\\U0001F300-\\U0001F5FF\"  # symbols & pictographs\n",
    "            u\"\\U0001F680-\\U0001F6FF\"  # transport & map symbols\n",
    "            u\"\\U0001F1E0-\\U0001F1FF\"  # flags (iOS)\n",
    "                               \"]+\", flags=re.UNICODE)\n",
    "    return emoji_pattern.sub(r'', text) # no emoji\n",
    "    "
   ]
  },
  {
   "cell_type": "code",
   "execution_count": 13,
   "id": "a390b603-7664-449f-9030-008e0fcd02cc",
   "metadata": {},
   "outputs": [],
   "source": [
    "'''lemmatizing'''\n",
    "def lemmatize(text):\n",
    "    # Lemmatizing the verbs\n",
    "    verb_lemmatized = [                  \n",
    "        WordNetLemmatizer().lemmatize(word, pos = \"v\") # v --> verbs\n",
    "        for word in text\n",
    "    ]\n",
    "\n",
    "# 2 - Lemmatizing the nouns\n",
    "    noun_lemmatized = [                 \n",
    "        WordNetLemmatizer().lemmatize(word, pos = \"n\") # n --> nouns\n",
    "        for word in text\n",
    "    ]\n",
    "    return ' '.join(text)"
   ]
  },
  {
   "cell_type": "code",
   "execution_count": 14,
   "id": "f6bc7b7a-b059-49d9-9374-4ef82053bead",
   "metadata": {},
   "outputs": [],
   "source": [
    "'''completed preprocessing. use with .apply() to title column'''\n",
    "def preprocessing(sentence):\n",
    "#     Lower\n",
    "    sentence = sentence.lower()\n",
    "    \n",
    "    '''punctuation strip'''\n",
    "    for punctuation in string.punctuation:\n",
    "        sentence = sentence.replace(punctuation, '')\n",
    "        \n",
    "    '''strip numbers'''\n",
    "    sentence = ''.join(char for char in sentence if not char.isdigit())\n",
    "    \n",
    "    '''emoji strip'''\n",
    "    sentence = emoji_strip(sentence)\n",
    "    \n",
    "    '''remove chinese characters'''\n",
    "    sentence=re.sub(u'(?<=[^0-9])[^\\u4e00-\\u9fff0-9a-zA-Z]+(?=[^0-9])',' ',sentence)\n",
    "    \n",
    "    '''tokenizer'''\n",
    "    tokenized = word_tokenize(sentence)\n",
    "    \n",
    "    '''lemmatize'''\n",
    "    clean_reviews = lemmatize(tokenized)\n",
    "    \n",
    "    return clean_reviews"
   ]
  },
  {
   "cell_type": "markdown",
   "id": "3bfe8ded-a299-4104-aa28-3f8c4e0688af",
   "metadata": {},
   "source": [
    "### Drop duplicate ID's"
   ]
  },
  {
   "cell_type": "code",
   "execution_count": 15,
   "id": "c6bd5618-9fc4-4ed8-a879-86425e0e577c",
   "metadata": {},
   "outputs": [],
   "source": [
    "df_drop = drop_duplicate_ids(df)"
   ]
  },
  {
   "cell_type": "code",
   "execution_count": 16,
   "id": "0f5f3aca-7264-4288-8f63-183c46bb9cec",
   "metadata": {},
   "outputs": [
    {
     "data": {
      "text/plain": [
       "27"
      ]
     },
     "execution_count": 16,
     "metadata": {},
     "output_type": "execute_result"
    }
   ],
   "source": [
    "len(df_drop)"
   ]
  },
  {
   "cell_type": "markdown",
   "id": "9acb8d5f-bbda-4ad7-9e8c-774125088356",
   "metadata": {},
   "source": [
    "### Strip non-english titles"
   ]
  },
  {
   "cell_type": "code",
   "execution_count": 17,
   "id": "e2bea264-4c25-4a3b-aeb2-4bc90aa97ef3",
   "metadata": {},
   "outputs": [
    {
     "name": "stderr",
     "output_type": "stream",
     "text": [
      "/var/folders/cq/z0dgtgp90bzbkyk56psg1hj80000gn/T/ipykernel_3457/1805765022.py:24: SettingWithCopyWarning: \n",
      "A value is trying to be set on a copy of a slice from a DataFrame.\n",
      "Try using .loc[row_indexer,col_indexer] = value instead\n",
      "\n",
      "See the caveats in the documentation: https://pandas.pydata.org/pandas-docs/stable/user_guide/indexing.html#returning-a-view-versus-a-copy\n",
      "  df['detect'] = df['title'].apply(detect_except)\n"
     ]
    }
   ],
   "source": [
    "df_eng = strip_english(df_drop)"
   ]
  },
  {
   "cell_type": "code",
   "execution_count": 325,
   "id": "40dca286-ee53-4590-82b2-eb58117aa323",
   "metadata": {},
   "outputs": [],
   "source": [
    "# df_eng = df_drop"
   ]
  },
  {
   "cell_type": "code",
   "execution_count": 18,
   "id": "af769d27-a30c-471b-bf75-e5483904b746",
   "metadata": {},
   "outputs": [
    {
     "data": {
      "text/plain": [
       "21"
      ]
     },
     "execution_count": 18,
     "metadata": {},
     "output_type": "execute_result"
    }
   ],
   "source": [
    "len(df_eng)"
   ]
  },
  {
   "cell_type": "markdown",
   "id": "64c330c6-90be-4582-95e5-e99ab0613a4b",
   "metadata": {},
   "source": [
    "### Apply preprocessing"
   ]
  },
  {
   "cell_type": "code",
   "execution_count": 19,
   "id": "c52299ce-e546-40e4-9254-b425568a7f94",
   "metadata": {},
   "outputs": [
    {
     "name": "stderr",
     "output_type": "stream",
     "text": [
      "/var/folders/cq/z0dgtgp90bzbkyk56psg1hj80000gn/T/ipykernel_3457/749894130.py:1: SettingWithCopyWarning: \n",
      "A value is trying to be set on a copy of a slice from a DataFrame.\n",
      "Try using .loc[row_indexer,col_indexer] = value instead\n",
      "\n",
      "See the caveats in the documentation: https://pandas.pydata.org/pandas-docs/stable/user_guide/indexing.html#returning-a-view-versus-a-copy\n",
      "  df_eng['title'] = df_eng['title'].apply(lambda x: preprocessing(x))\n"
     ]
    }
   ],
   "source": [
    "df_eng['title'] = df_eng['title'].apply(lambda x: preprocessing(x))"
   ]
  },
  {
   "cell_type": "code",
   "execution_count": 20,
   "id": "ccb2d158-e5ce-46ac-829b-dd220a80f980",
   "metadata": {},
   "outputs": [
    {
     "data": {
      "text/html": [
       "<div>\n",
       "<style scoped>\n",
       "    .dataframe tbody tr th:only-of-type {\n",
       "        vertical-align: middle;\n",
       "    }\n",
       "\n",
       "    .dataframe tbody tr th {\n",
       "        vertical-align: top;\n",
       "    }\n",
       "\n",
       "    .dataframe thead th {\n",
       "        text-align: right;\n",
       "    }\n",
       "</style>\n",
       "<table border=\"1\" class=\"dataframe\">\n",
       "  <thead>\n",
       "    <tr style=\"text-align: right;\">\n",
       "      <th></th>\n",
       "      <th>Unnamed: 0</th>\n",
       "      <th>id</th>\n",
       "      <th>channel_id</th>\n",
       "      <th>country</th>\n",
       "      <th>channel_viewCount</th>\n",
       "      <th>channel_subscriberCount</th>\n",
       "      <th>channel_videoCount</th>\n",
       "      <th>title</th>\n",
       "      <th>published</th>\n",
       "      <th>views</th>\n",
       "      <th>detect</th>\n",
       "    </tr>\n",
       "  </thead>\n",
       "  <tbody>\n",
       "    <tr>\n",
       "      <th>1</th>\n",
       "      <td>0</td>\n",
       "      <td>M6h5AS971hY</td>\n",
       "      <td>UCVFYikepF-avelvuIaQ_lHA</td>\n",
       "      <td>US</td>\n",
       "      <td>487331075</td>\n",
       "      <td>2670000</td>\n",
       "      <td>846</td>\n",
       "      <td>journey to the center of the earth full movie ...</td>\n",
       "      <td>2022-05-03T16:00:11Z</td>\n",
       "      <td>2616142</td>\n",
       "      <td>en</td>\n",
       "    </tr>\n",
       "    <tr>\n",
       "      <th>2</th>\n",
       "      <td>0</td>\n",
       "      <td>zeumhLatU3w</td>\n",
       "      <td>UCTFWiL4BvMuHJvfnCwmGcVg</td>\n",
       "      <td>ID</td>\n",
       "      <td>30178992</td>\n",
       "      <td>332000</td>\n",
       "      <td>220</td>\n",
       "      <td>funny cute moments baby gets jealous of parent...</td>\n",
       "      <td>2022-05-05T08:00:16Z</td>\n",
       "      <td>88411345</td>\n",
       "      <td>en</td>\n",
       "    </tr>\n",
       "  </tbody>\n",
       "</table>\n",
       "</div>"
      ],
      "text/plain": [
       "   Unnamed: 0           id                channel_id country  \\\n",
       "1           0  M6h5AS971hY  UCVFYikepF-avelvuIaQ_lHA      US   \n",
       "2           0  zeumhLatU3w  UCTFWiL4BvMuHJvfnCwmGcVg      ID   \n",
       "\n",
       "   channel_viewCount  channel_subscriberCount  channel_videoCount  \\\n",
       "1          487331075                  2670000                 846   \n",
       "2           30178992                   332000                 220   \n",
       "\n",
       "                                               title             published  \\\n",
       "1  journey to the center of the earth full movie ...  2022-05-03T16:00:11Z   \n",
       "2  funny cute moments baby gets jealous of parent...  2022-05-05T08:00:16Z   \n",
       "\n",
       "      views detect  \n",
       "1   2616142     en  \n",
       "2  88411345     en  "
      ]
     },
     "execution_count": 20,
     "metadata": {},
     "output_type": "execute_result"
    }
   ],
   "source": [
    "df_eng.head(2)"
   ]
  },
  {
   "cell_type": "code",
   "execution_count": 6,
   "id": "77eb1077",
   "metadata": {},
   "outputs": [
    {
     "data": {
      "text/plain": [
       "27.77777777777778"
      ]
     },
     "execution_count": 6,
     "metadata": {},
     "output_type": "execute_result"
    }
   ],
   "source": [
    "1*100000/60/60\n"
   ]
  },
  {
   "cell_type": "code",
   "execution_count": 21,
   "id": "d4f89033-777f-4430-8fad-7599fb654d08",
   "metadata": {},
   "outputs": [],
   "source": [
    "df_eng = drop_y_nas(df_eng)"
   ]
  },
  {
   "cell_type": "code",
   "execution_count": 22,
   "id": "5546c652",
   "metadata": {},
   "outputs": [],
   "source": [
    "assert df_eng.views.isna().sum() == 0"
   ]
  },
  {
   "cell_type": "code",
   "execution_count": 23,
   "id": "a8d5867d-7d52-44f3-9c39-013b4b8dbc73",
   "metadata": {},
   "outputs": [],
   "source": [
    "df_eng[\"get\"] =  + df[\"id\"] +'_'+ df_eng[\"views\"].astype(int).astype(str)"
   ]
  },
  {
   "cell_type": "code",
   "execution_count": 24,
   "id": "ca08b872",
   "metadata": {},
   "outputs": [],
   "source": [
    "df_eng = df_eng.sort_values('id')"
   ]
  },
  {
   "cell_type": "code",
   "execution_count": 25,
   "id": "c81ead27",
   "metadata": {},
   "outputs": [
    {
     "data": {
      "text/html": [
       "<div>\n",
       "<style scoped>\n",
       "    .dataframe tbody tr th:only-of-type {\n",
       "        vertical-align: middle;\n",
       "    }\n",
       "\n",
       "    .dataframe tbody tr th {\n",
       "        vertical-align: top;\n",
       "    }\n",
       "\n",
       "    .dataframe thead th {\n",
       "        text-align: right;\n",
       "    }\n",
       "</style>\n",
       "<table border=\"1\" class=\"dataframe\">\n",
       "  <thead>\n",
       "    <tr style=\"text-align: right;\">\n",
       "      <th></th>\n",
       "      <th>Unnamed: 0</th>\n",
       "      <th>id</th>\n",
       "      <th>channel_id</th>\n",
       "      <th>country</th>\n",
       "      <th>channel_viewCount</th>\n",
       "      <th>channel_subscriberCount</th>\n",
       "      <th>channel_videoCount</th>\n",
       "      <th>title</th>\n",
       "      <th>published</th>\n",
       "      <th>views</th>\n",
       "      <th>detect</th>\n",
       "      <th>get</th>\n",
       "    </tr>\n",
       "  </thead>\n",
       "  <tbody>\n",
       "    <tr>\n",
       "      <th>22</th>\n",
       "      <td>0</td>\n",
       "      <td>1uQztB72wJc</td>\n",
       "      <td>UCbe_N5SULIdKlO_e-g7RBhQ</td>\n",
       "      <td>US</td>\n",
       "      <td>67242993</td>\n",
       "      <td>417000</td>\n",
       "      <td>515</td>\n",
       "      <td>quotall mayweather did was runquot</td>\n",
       "      <td>2022-05-05T01:06:35Z</td>\n",
       "      <td>4160</td>\n",
       "      <td>en</td>\n",
       "      <td>1uQztB72wJc_4160</td>\n",
       "    </tr>\n",
       "    <tr>\n",
       "      <th>26</th>\n",
       "      <td>0</td>\n",
       "      <td>5QKCbMR-bWM</td>\n",
       "      <td>UCaObQR6nzeot-7kb0Cmcl1Q</td>\n",
       "      <td>PK</td>\n",
       "      <td>9558722</td>\n",
       "      <td>55100</td>\n",
       "      <td>332</td>\n",
       "      <td>my family short lines in english lines essay o...</td>\n",
       "      <td>2022-05-04T13:00:02Z</td>\n",
       "      <td>107249</td>\n",
       "      <td>en</td>\n",
       "      <td>5QKCbMR-bWM_107249</td>\n",
       "    </tr>\n",
       "    <tr>\n",
       "      <th>5</th>\n",
       "      <td>0</td>\n",
       "      <td>6e7_piGjkbk</td>\n",
       "      <td>UCzpp09_6XZzYM3HYsr3m29A</td>\n",
       "      <td>US</td>\n",
       "      <td>36233265</td>\n",
       "      <td>2530000</td>\n",
       "      <td>79</td>\n",
       "      <td>try not to say wow</td>\n",
       "      <td>2022-05-02T21:48:55Z</td>\n",
       "      <td>3840994</td>\n",
       "      <td>en</td>\n",
       "      <td>6e7_piGjkbk_3840994</td>\n",
       "    </tr>\n",
       "    <tr>\n",
       "      <th>12</th>\n",
       "      <td>0</td>\n",
       "      <td>9Yr5LtCy4xg</td>\n",
       "      <td>UCrp_UI8XtuYfpiqluWLD7Lw</td>\n",
       "      <td>US</td>\n",
       "      <td>1515353879</td>\n",
       "      <td>2290000</td>\n",
       "      <td>92780</td>\n",
       "      <td>half the us market is in a bubble top investor...</td>\n",
       "      <td>2022-05-02T22:20:22Z</td>\n",
       "      <td>50813</td>\n",
       "      <td>en</td>\n",
       "      <td>9Yr5LtCy4xg_50813</td>\n",
       "    </tr>\n",
       "    <tr>\n",
       "      <th>9</th>\n",
       "      <td>0</td>\n",
       "      <td>BJ_n5bVA9g4</td>\n",
       "      <td>UCrp_UI8XtuYfpiqluWLD7Lw</td>\n",
       "      <td>US</td>\n",
       "      <td>1515353879</td>\n",
       "      <td>2290000</td>\n",
       "      <td>92780</td>\n",
       "      <td>its not surprising were seeing a steeper curve...</td>\n",
       "      <td>2022-05-04T20:46:42Z</td>\n",
       "      <td>26912</td>\n",
       "      <td>en</td>\n",
       "      <td>BJ_n5bVA9g4_26912</td>\n",
       "    </tr>\n",
       "  </tbody>\n",
       "</table>\n",
       "</div>"
      ],
      "text/plain": [
       "    Unnamed: 0           id                channel_id country  \\\n",
       "22           0  1uQztB72wJc  UCbe_N5SULIdKlO_e-g7RBhQ      US   \n",
       "26           0  5QKCbMR-bWM  UCaObQR6nzeot-7kb0Cmcl1Q      PK   \n",
       "5            0  6e7_piGjkbk  UCzpp09_6XZzYM3HYsr3m29A      US   \n",
       "12           0  9Yr5LtCy4xg  UCrp_UI8XtuYfpiqluWLD7Lw      US   \n",
       "9            0  BJ_n5bVA9g4  UCrp_UI8XtuYfpiqluWLD7Lw      US   \n",
       "\n",
       "    channel_viewCount  channel_subscriberCount  channel_videoCount  \\\n",
       "22           67242993                   417000                 515   \n",
       "26            9558722                    55100                 332   \n",
       "5            36233265                  2530000                  79   \n",
       "12         1515353879                  2290000               92780   \n",
       "9          1515353879                  2290000               92780   \n",
       "\n",
       "                                                title             published  \\\n",
       "22                 quotall mayweather did was runquot  2022-05-05T01:06:35Z   \n",
       "26  my family short lines in english lines essay o...  2022-05-04T13:00:02Z   \n",
       "5                                  try not to say wow  2022-05-02T21:48:55Z   \n",
       "12  half the us market is in a bubble top investor...  2022-05-02T22:20:22Z   \n",
       "9   its not surprising were seeing a steeper curve...  2022-05-04T20:46:42Z   \n",
       "\n",
       "      views detect                  get  \n",
       "22     4160     en     1uQztB72wJc_4160  \n",
       "26   107249     en   5QKCbMR-bWM_107249  \n",
       "5   3840994     en  6e7_piGjkbk_3840994  \n",
       "12    50813     en    9Yr5LtCy4xg_50813  \n",
       "9     26912     en    BJ_n5bVA9g4_26912  "
      ]
     },
     "execution_count": 25,
     "metadata": {},
     "output_type": "execute_result"
    }
   ],
   "source": [
    "df_eng.head(5)"
   ]
  },
  {
   "cell_type": "code",
   "execution_count": 26,
   "id": "53d0caec",
   "metadata": {},
   "outputs": [],
   "source": [
    "videos_to_pick = set(df_eng['get'])"
   ]
  },
  {
   "cell_type": "code",
   "execution_count": 27,
   "id": "c8c5e2a5",
   "metadata": {},
   "outputs": [
    {
     "name": "stderr",
     "output_type": "stream",
     "text": [
      "27it [00:02, 12.90it/s]\n"
     ]
    }
   ],
   "source": [
    "bucket = storage.Client().get_bucket('mvp_youtube_optimizer')\n",
    "images = []\n",
    "ids = []\n",
    "for blob in tqdm(bucket.list_blobs(prefix = data)):\n",
    "    long_filename = blob.name\n",
    "    filename = long_filename.strip(f'{data}/')\n",
    "    last_underscore = filename.rfind('_')\n",
    "    video_id = filename[0:last_underscore]\n",
    "    if filename in videos_to_pick:\n",
    "        array = np.array(cv2.imdecode(np.asarray(bytearray(blob.download_as_string()), dtype=np.uint8), -1))\n",
    "        if array.shape == (180, 320, 3):\n",
    "            images.append(array)\n",
    "            ids.append(video_id)"
   ]
  },
  {
   "cell_type": "code",
   "execution_count": 28,
   "id": "334c24d2",
   "metadata": {},
   "outputs": [],
   "source": [
    "assert len(ids) == len(images)"
   ]
  },
  {
   "cell_type": "code",
   "execution_count": 29,
   "id": "352354ad",
   "metadata": {},
   "outputs": [],
   "source": [
    "df_match = df_eng[df_eng['id'].isin(ids)]"
   ]
  },
  {
   "cell_type": "code",
   "execution_count": 30,
   "id": "77812ef1",
   "metadata": {},
   "outputs": [],
   "source": [
    "assert list(df_match.id) == ids"
   ]
  },
  {
   "cell_type": "code",
   "execution_count": 31,
   "id": "0eac3c5e",
   "metadata": {},
   "outputs": [],
   "source": [
    "y = df_match.views\n",
    "X_nlp = df_match.title"
   ]
  },
  {
   "cell_type": "markdown",
   "id": "f883438f-e458-40d9-9b9f-f82d7e88c583",
   "metadata": {
    "tags": []
   },
   "source": [
    "# Train Test Split"
   ]
  },
  {
   "cell_type": "code",
   "execution_count": 32,
   "id": "750d3806",
   "metadata": {},
   "outputs": [],
   "source": [
    "from sklearn.model_selection import train_test_split\n",
    "X_train_images, X_test_images,X_train_nlp,X_test_nlp, y_train, y_test = train_test_split(images, X_nlp,y,test_size=0.2, random_state=0)"
   ]
  },
  {
   "cell_type": "markdown",
   "id": "df8d3684",
   "metadata": {},
   "source": [
    "# Baseline"
   ]
  },
  {
   "cell_type": "code",
   "execution_count": 33,
   "id": "fd29601c",
   "metadata": {},
   "outputs": [
    {
     "data": {
      "text/plain": [
       "22710886.5"
      ]
     },
     "execution_count": 33,
     "metadata": {},
     "output_type": "execute_result"
    }
   ],
   "source": [
    "baseline = (abs(y_test-y_train.mean())).mean()\n",
    "baseline"
   ]
  },
  {
   "cell_type": "markdown",
   "id": "b82936f5",
   "metadata": {},
   "source": [
    "# Graphs"
   ]
  },
  {
   "cell_type": "code",
   "execution_count": 34,
   "id": "f6e7ea0a",
   "metadata": {},
   "outputs": [],
   "source": [
    "def plot_loss_mse(history):\n",
    "    # fig, (ax1, ax2) = plt.subplots(1,2, figsize=(13,4))\n",
    "    plt.plot(history.history['loss'])\n",
    "    plt.plot(history.history['val_loss'])\n",
    "    plt.title('Model loss')\n",
    "    plt.ylabel('Loss')\n",
    "    plt.xlabel('Epoch')\n",
    "    # ax1.set_ylim(ymin=0, ymax)\n",
    "    plt.legend(['Train', 'Validation'], loc='best')\n",
    "    plt.grid(axis=\"x\",linewidth=0.5)\n",
    "    plt.grid(axis=\"y\",linewidth=0.5)    \n",
    "\n",
    "    \n",
    "    # ax2.plot(history.history['mse'])\n",
    "    # ax2.plot(history.history['val_mse'])\n",
    "    # ax2.set_title('MSE')\n",
    "    # ax2.set_ylabel('MSE')\n",
    "    # ax2.set_xlabel('Epoch')\n",
    "    # ax2.set_ylim(ymin=0, ymax=200)\n",
    "    # ax2.legend(['Train', 'Validation'], loc='best')\n",
    "    # ax2.grid(axis=\"x\",linewidth=0.5)\n",
    "    # ax2.grid(axis=\"y\",linewidth=0.5)    \n",
    "\n",
    "    plt.show()"
   ]
  },
  {
   "cell_type": "markdown",
   "id": "0a8d2dfa-631e-4402-a55a-ba0fff149f88",
   "metadata": {
    "tags": []
   },
   "source": [
    "# Image\n"
   ]
  },
  {
   "cell_type": "code",
   "execution_count": 35,
   "id": "e91fbc9e-bf89-401e-b1b0-ac3bca690f0e",
   "metadata": {},
   "outputs": [],
   "source": [
    "X_images_train = np.array(X_train_images)\n",
    "X_images_test = np.array(X_test_images)"
   ]
  },
  {
   "cell_type": "code",
   "execution_count": 37,
   "id": "658c2d34-879c-4fc5-b4a2-ae7ce472c770",
   "metadata": {},
   "outputs": [
    {
     "data": {
      "text/plain": [
       "(4, 180, 320, 3)"
      ]
     },
     "execution_count": 37,
     "metadata": {},
     "output_type": "execute_result"
    }
   ],
   "source": [
    "X_images_test.shape"
   ]
  },
  {
   "cell_type": "markdown",
   "id": "b3979dd8-226d-4760-8dc8-6097743dd3a3",
   "metadata": {},
   "source": [
    "## Preprocess"
   ]
  },
  {
   "cell_type": "code",
   "execution_count": 38,
   "id": "8b661e49-f666-42dc-8947-a243a3997dbd",
   "metadata": {},
   "outputs": [],
   "source": [
    "def preprocess(X_train, X_test):\n",
    "    X_train = preprocess_input(X_train)\n",
    "    X_test = preprocess_input(X_test)\n",
    "    return X_train, X_test"
   ]
  },
  {
   "cell_type": "code",
   "execution_count": 39,
   "id": "4844d71b-c0bc-4fe4-9901-dd6dd5025d44",
   "metadata": {},
   "outputs": [],
   "source": [
    "X_images_train, X_images_test = preprocess(X_images_train, X_images_test)"
   ]
  },
  {
   "cell_type": "markdown",
   "id": "82b8cf0c",
   "metadata": {},
   "source": [
    "## Initialize"
   ]
  },
  {
   "cell_type": "code",
   "execution_count": 40,
   "id": "2399d48c-61d8-4cc3-821d-9a1f4240702c",
   "metadata": {},
   "outputs": [],
   "source": [
    "def base_model():\n",
    "    base_model = Xception(weights=\"imagenet\",input_shape = (180,320,3),include_top=False)\n",
    "    base_model.trainable = False\n",
    "    return base_model"
   ]
  },
  {
   "cell_type": "code",
   "execution_count": 41,
   "id": "394168fa-5226-4912-8bbf-2c4d0ae48b60",
   "metadata": {},
   "outputs": [],
   "source": [
    "def complete_model():\n",
    "    model = Sequential((\n",
    "        base_model(),\n",
    "        #GlobalAveragePooling2D(),\n",
    "        AveragePooling2D(pool_size = (3,3)),\n",
    "        Flatten(),\n",
    "        Dense(50,activation = 'relu'),\n",
    "        Dense(1,activation = 'linear')))\n",
    "    \n",
    "    opt = Adam(learning_rate=0.01, \n",
    "               beta_1=0.9, \n",
    "               beta_2=0.99)\n",
    "    \n",
    "    model.compile(loss=\"mae\", optimizer='adam',\n",
    "                  metrics=[\"mse\"])\n",
    "    \n",
    "    return model  "
   ]
  },
  {
   "cell_type": "code",
   "execution_count": 42,
   "id": "834eff95-1f72-464c-ae22-b83b87da9462",
   "metadata": {},
   "outputs": [],
   "source": [
    "model_image = complete_model()"
   ]
  },
  {
   "cell_type": "markdown",
   "id": "78c691f1-5006-47eb-93c3-67aebf7824a7",
   "metadata": {},
   "source": [
    "## Fit"
   ]
  },
  {
   "cell_type": "code",
   "execution_count": 43,
   "id": "02f3f786",
   "metadata": {},
   "outputs": [
    {
     "data": {
      "text/plain": [
       "15"
      ]
     },
     "execution_count": 43,
     "metadata": {},
     "output_type": "execute_result"
    }
   ],
   "source": [
    "len(X_images_train)"
   ]
  },
  {
   "cell_type": "code",
   "execution_count": 45,
   "id": "5f404b6c-83f8-47f0-adc6-2f460fc28c83",
   "metadata": {},
   "outputs": [
    {
     "name": "stdout",
     "output_type": "stream",
     "text": [
      "Epoch 1/2\n",
      "1/1 [==============================] - 1s 964ms/step - loss: 3220259.7500 - mse: 50616596430848.0000 - val_loss: 53373.0195 - val_mse: 8091789312.0000\n",
      "Epoch 2/2\n",
      "1/1 [==============================] - 1s 859ms/step - loss: 3220249.7500 - mse: 50616525127680.0000 - val_loss: 53363.7773 - val_mse: 8090935296.0000\n"
     ]
    }
   ],
   "source": [
    "es = EarlyStopping(patience = 10, restore_best_weights = True)\n",
    "history = model_image.fit(X_images_train,y_train, epochs = 2,batch_size = 16,validation_split=0.2, callbacks = [es])"
   ]
  },
  {
   "cell_type": "markdown",
   "id": "01e935a3",
   "metadata": {},
   "source": [
    "## Model score"
   ]
  },
  {
   "cell_type": "code",
   "execution_count": 46,
   "id": "ff7f3dc4",
   "metadata": {},
   "outputs": [
    {
     "name": "stdout",
     "output_type": "stream",
     "text": [
      "1/1 [==============================] - 0s 242ms/step - loss: 22802826.0000 - mse: 1955854555283456.0000\n"
     ]
    }
   ],
   "source": [
    "res = model_image.evaluate(X_images_test, y_test, verbose=1)"
   ]
  },
  {
   "cell_type": "markdown",
   "id": "44b300ff",
   "metadata": {},
   "source": [
    "### Improvements on baseline"
   ]
  },
  {
   "cell_type": "code",
   "execution_count": 47,
   "id": "9a6cf154",
   "metadata": {},
   "outputs": [
    {
     "data": {
      "text/plain": [
       "'-0.0%'"
      ]
     },
     "execution_count": 47,
     "metadata": {},
     "output_type": "execute_result"
    }
   ],
   "source": [
    "f'{(round((baseline-res[0])/baseline,2)*100)}%'"
   ]
  },
  {
   "cell_type": "markdown",
   "id": "6031da46",
   "metadata": {},
   "source": [
    "### Loss graphs"
   ]
  },
  {
   "cell_type": "code",
   "execution_count": 48,
   "id": "0dc64f75",
   "metadata": {},
   "outputs": [
    {
     "data": {
      "image/png": "[encoded data removed]",
      "text/plain": [
       "<Figure size 640x480 with 1 Axes>"
      ]
     },
     "metadata": {},
     "output_type": "display_data"
    }
   ],
   "source": [
    "plot_loss_mse(history)"
   ]
  },
  {
   "cell_type": "markdown",
   "id": "00da88d1-2363-4f2e-86f0-91da15a04491",
   "metadata": {
    "tags": []
   },
   "source": [
    "# Tokenizer"
   ]
  },
  {
   "cell_type": "code",
   "execution_count": 49,
   "id": "ed9aea8f-537e-4f39-900a-1080366982c8",
   "metadata": {},
   "outputs": [],
   "source": [
    "tokenizer=Tokenizer()\n",
    "tokenizer.fit_on_texts(X_train_nlp)\n",
    "\n",
    "\n",
    "\n",
    "X_train_token = tokenizer.texts_to_sequences(X_train_nlp)\n",
    "X_test_token = tokenizer.texts_to_sequences(X_test_nlp)\n",
    "\n",
    "X_train_pad = pad_sequences(X_train_token, padding='post', dtype='float32')\n",
    "input_length=np.array([len(i) for i in X_train_pad]).max()\n",
    "X_test_pad = pad_sequences(X_test_token, padding='post', maxlen=input_length,  dtype='float32')\n",
    "\n",
    "\n",
    "\n",
    "# X_train_tok = tk.texts_to_sequences(X_train)\n",
    "\n",
    "# X_test_tok = tk.texts_to_sequences(X_test)\n",
    "\n",
    "# X_train_pad=pad_sequences(X_train_tok, padding='post', dtype='float32')\n",
    "\n",
    "# X_test_pad=pad_sequences(X_test_tok, padding='post', dtype='float32')"
   ]
  },
  {
   "cell_type": "markdown",
   "id": "bbd7aec2-1587-43f4-a54c-f08358d4ded0",
   "metadata": {
    "tags": []
   },
   "source": [
    "# CNN Model"
   ]
  },
  {
   "cell_type": "markdown",
   "id": "764dd24b-d4cf-4a9f-8280-88f99ef1d3c5",
   "metadata": {},
   "source": [
    "## Input params"
   ]
  },
  {
   "cell_type": "code",
   "execution_count": 50,
   "id": "6e3b3e48-7825-4906-b647-540fe194d2b4",
   "metadata": {},
   "outputs": [
    {
     "data": {
      "text/plain": [
       "127"
      ]
     },
     "execution_count": 50,
     "metadata": {},
     "output_type": "execute_result"
    }
   ],
   "source": [
    "vocab_size = len(tokenizer.word_index)\n",
    "vocab_size"
   ]
  },
  {
   "cell_type": "code",
   "execution_count": 51,
   "id": "196598a6-bf83-46eb-8ab8-02d0bf0f1ca2",
   "metadata": {},
   "outputs": [],
   "source": [
    "input_length=np.array([len(i) for i in X_train_pad]).max()"
   ]
  },
  {
   "cell_type": "code",
   "execution_count": 52,
   "id": "3ceb9613-b76c-4b1c-b13d-29cdb5cbafbe",
   "metadata": {},
   "outputs": [
    {
     "data": {
      "text/plain": [
       "18"
      ]
     },
     "execution_count": 52,
     "metadata": {},
     "output_type": "execute_result"
    }
   ],
   "source": [
    "input_length"
   ]
  },
  {
   "cell_type": "markdown",
   "id": "8a43c94b-c0ac-4641-8e45-6f76749a2768",
   "metadata": {},
   "source": [
    "## Initialize"
   ]
  },
  {
   "cell_type": "code",
   "execution_count": 53,
   "id": "2125cc1f-c1f9-491f-9dd3-c021203fe1ce",
   "metadata": {},
   "outputs": [],
   "source": [
    "embedding_size=100\n",
    "\n",
    "\n",
    "def initialize_model():\n",
    "    model=Sequential()\n",
    "    model.add(layers.Embedding(\n",
    "        input_dim=vocab_size+1, # 16 +1 for the 0 padding\n",
    "        input_length=input_length, # Max_sentence_length (optional, for model summary)\n",
    "        output_dim=embedding_size, # 100\n",
    "        mask_zero=True, # Built-in masking layer :)\n",
    "    ))\n",
    "\n",
    "    \n",
    "    model.add(layers.Conv1D(20, kernel_size=3))\n",
    "    model.add(layers.Flatten())\n",
    "    model.add(layers.Dense(512, activation='relu'))\n",
    "    model.add(layers.Dropout(0.2))\n",
    "    model.add(layers.Dense(128, activation='relu'))\n",
    "    model.add(layers.Dropout(0.2))\n",
    "    model.add(layers.Dense(64, activation='relu'))\n",
    "    model.add(layers.Dropout(0.2))\n",
    "    model.add(layers.Dense(32, activation='relu'))\n",
    "    model.add(layers.Dropout(0.2))\n",
    "    model.add(layers.Dense(16, activation='relu'))\n",
    "    model.add(layers.Dropout(0.2))\n",
    "    model.add(layers.Dense(1, activation='linear'))\n",
    "    \n",
    "    model.compile(\n",
    "        loss='mae',\n",
    "        optimizer='adam',\n",
    "        metrics='mae'\n",
    "    ) \n",
    "   \n",
    "    return model"
   ]
  },
  {
   "cell_type": "markdown",
   "id": "703cbb80-8418-417b-9ebe-3bb84af7fbb5",
   "metadata": {},
   "source": [
    "## Fit"
   ]
  },
  {
   "cell_type": "code",
   "execution_count": 54,
   "id": "4e9f4d28-7bcc-438e-9583-fa5b2781624e",
   "metadata": {},
   "outputs": [
    {
     "name": "stdout",
     "output_type": "stream",
     "text": [
      "Epoch 1/2\n",
      "1/1 [==============================] - 1s 553ms/step - loss: 3220278.7500 - mae: 3220278.7500 - val_loss: 53399.0000 - val_mae: 53399.0000\n",
      "Epoch 2/2\n",
      "1/1 [==============================] - 0s 18ms/step - loss: 3220278.7500 - mae: 3220278.7500 - val_loss: 53398.9961 - val_mae: 53398.9961\n"
     ]
    }
   ],
   "source": [
    "es=EarlyStopping(patience=10, restore_best_weights=True)\n",
    "model_cnn=initialize_model()\n",
    "history=model_cnn.fit(X_train_pad,\n",
    "                  y_train,\n",
    "                  batch_size=16,\n",
    "                  validation_split=0.2,\n",
    "                  callbacks=es,\n",
    "                  epochs=2)"
   ]
  },
  {
   "cell_type": "markdown",
   "id": "38437d2b-af85-4ff6-8c79-5295748536d1",
   "metadata": {},
   "source": [
    "## Model score"
   ]
  },
  {
   "cell_type": "code",
   "execution_count": 55,
   "id": "89d503a2-045a-47b1-ac02-26c5dd7aede9",
   "metadata": {},
   "outputs": [],
   "source": [
    "res = model_cnn.evaluate(X_test_pad, y_test, verbose=0)"
   ]
  },
  {
   "cell_type": "code",
   "execution_count": 56,
   "id": "9cdddf1e-abdb-4e6f-b05b-e7ce8ec716b6",
   "metadata": {},
   "outputs": [
    {
     "name": "stdout",
     "output_type": "stream",
     "text": [
      "Mean absolute error : 22802858.0000\n"
     ]
    }
   ],
   "source": [
    "print(f'Mean absolute error : {res[0]:.4f}')"
   ]
  },
  {
   "cell_type": "markdown",
   "id": "08704946-7ad4-409a-b6b6-96857b9014e9",
   "metadata": {},
   "source": [
    "### % Improvement on baseline"
   ]
  },
  {
   "cell_type": "code",
   "execution_count": 57,
   "id": "421e70f0-40dc-4218-a631-4d942abbfad2",
   "metadata": {},
   "outputs": [
    {
     "data": {
      "text/plain": [
       "'-0.0%'"
      ]
     },
     "execution_count": 57,
     "metadata": {},
     "output_type": "execute_result"
    }
   ],
   "source": [
    "f'{(round((baseline-res[0])/baseline,2)*100)}%'"
   ]
  },
  {
   "cell_type": "markdown",
   "id": "7d2fe408-84b0-45cd-9a4e-3df9c885af01",
   "metadata": {},
   "source": [
    "### Loss graphs"
   ]
  },
  {
   "cell_type": "code",
   "execution_count": null,
   "id": "4b930229-ac4e-4826-9cb7-37e21f4db109",
   "metadata": {},
   "outputs": [],
   "source": []
  },
  {
   "cell_type": "code",
   "execution_count": 58,
   "id": "4d876080-6e5b-4640-9472-29b1e04ce13b",
   "metadata": {},
   "outputs": [
    {
     "data": {
      "image/png": "[encoded data removed]",
      "text/plain": [
       "<Figure size 640x480 with 1 Axes>"
      ]
     },
     "metadata": {},
     "output_type": "display_data"
    }
   ],
   "source": [
    "plot_loss_mse(history)"
   ]
  },
  {
   "cell_type": "code",
   "execution_count": 59,
   "id": "f54ef2c7-5723-47f8-a6f6-fa0c07f1a881",
   "metadata": {},
   "outputs": [
    {
     "name": "stdout",
     "output_type": "stream",
     "text": [
      "MAE reached after 2 epochs\n"
     ]
    }
   ],
   "source": [
    "print(f'MAE reached after {len(history.epoch)} epochs')"
   ]
  },
  {
   "cell_type": "code",
   "execution_count": 60,
   "id": "1f206de6-9ae2-4295-905c-96f62593b210",
   "metadata": {},
   "outputs": [
    {
     "name": "stdout",
     "output_type": "stream",
     "text": [
      "1/1 [==============================] - 0s 98ms/step\n"
     ]
    },
    {
     "data": {
      "text/plain": [
       "array([[0.00725781]], dtype=float32)"
      ]
     },
     "execution_count": 60,
     "metadata": {},
     "output_type": "execute_result"
    }
   ],
   "source": [
    "X_predict_token = tokenizer.texts_to_sequences(['total face input'])\n",
    "X_predict_pad = pad_sequences(X_predict_token, maxlen = input_length, padding='post', dtype='float32')\n",
    "model_cnn.predict(X_predict_pad)"
   ]
  },
  {
   "cell_type": "markdown",
   "id": "048c93ea-dce5-459e-a027-7d29b27a40ec",
   "metadata": {
    "tags": []
   },
   "source": [
    "# RNN Model"
   ]
  },
  {
   "cell_type": "markdown",
   "id": "b4e9b0d6-27a7-4f87-a736-1ed5da4a9fb9",
   "metadata": {},
   "source": [
    "## Initialize"
   ]
  },
  {
   "cell_type": "code",
   "execution_count": 61,
   "id": "7febc64c-dbd1-4148-b203-a27807d4fbec",
   "metadata": {},
   "outputs": [],
   "source": [
    "def initialize_model():\n",
    "    \n",
    "#     optimizer=Adam(learning_rate=0.001, clipnorm=1)\n",
    "    \n",
    "    embedding_size = 100\n",
    "\n",
    "    model = Sequential()\n",
    "    model.add(layers.Embedding(\n",
    "        input_dim=vocab_size+1, # 16 +1 for the 0 padding\n",
    "        input_length=input_length, # Max_sentence_length (optional, for model summary)\n",
    "        output_dim=embedding_size, # 100\n",
    "        mask_zero=True, # Built-in masking layer :)\n",
    "    ))\n",
    "\n",
    "    model.add(layers.LSTM(20,return_sequences=True))\n",
    "    model.add(layers.Dropout(0.2))\n",
    "    \n",
    "    model.add(layers.LSTM(20,return_sequences=False))\n",
    "    model.add(layers.Dropout(0.2))\n",
    "    \n",
    "    model.add(layers.Dense(64, activation='relu'))\n",
    "    model.add(layers.Dropout(0.2))\n",
    "    \n",
    "    model.add(layers.Dense(32, activation='relu'))\n",
    "    model.add(layers.Dropout(0.2))\n",
    "    \n",
    "    model.add(layers.Dense(16, activation='relu'))\n",
    "    model.add(layers.Dropout(0.2))\n",
    "    \n",
    "    model.add(layers.Dense(1, activation=\"linear\"\n",
    "#                            ,kernel_regularizer=regularizers.L1(0.001),\n",
    "#                             activity_regularizer=regularizers.L2(0.001)\n",
    "                          ))\n",
    "    \n",
    "    model.compile(\n",
    "    loss='mae',\n",
    "    optimizer='adam',\n",
    "    metrics='mse'\n",
    "    ) \n",
    "    \n",
    "    return model"
   ]
  },
  {
   "cell_type": "markdown",
   "id": "a4dd8587-7d48-44d9-809a-6238fc2a8d0a",
   "metadata": {},
   "source": [
    "## Fit"
   ]
  },
  {
   "cell_type": "code",
   "execution_count": 62,
   "id": "a8bf0765-0b49-440a-bc89-fe154eb55348",
   "metadata": {},
   "outputs": [
    {
     "name": "stdout",
     "output_type": "stream",
     "text": [
      "Epoch 1/2\n",
      "1/1 [==============================] - 6s 6s/step - loss: 3374443.2500 - mse: 51115441782784.0000 - val_loss: 56592.9883 - val_mse: 8126994432.0000\n",
      "Epoch 2/2\n",
      "1/1 [==============================] - 0s 37ms/step - loss: 3374443.2500 - mse: 51115441782784.0000 - val_loss: 56592.9805 - val_mse: 8126994432.0000\n"
     ]
    }
   ],
   "source": [
    "model=initialize_model()\n",
    "es=EarlyStopping(patience=10, restore_best_weights=True)\n",
    "\n",
    "history=model.fit(X_train_pad,\n",
    "                  y,\n",
    "                  batch_size=128,\n",
    "                  validation_split=0.2,\n",
    "                  callbacks=es,\n",
    "                  epochs=2)\n",
    "\n",
    "\n"
   ]
  },
  {
   "cell_type": "markdown",
   "id": "a4794da9-246e-43f2-9406-35d616ff86ae",
   "metadata": {},
   "source": [
    "## Model score"
   ]
  },
  {
   "cell_type": "code",
   "execution_count": 63,
   "id": "359d1c21-b933-4c5b-baa5-15e2a9e86fdb",
   "metadata": {},
   "outputs": [],
   "source": [
    "res = model.evaluate(X_test_pad, y_test, verbose=0)"
   ]
  },
  {
   "cell_type": "code",
   "execution_count": 64,
   "id": "e5f6f4c4-e777-47b2-83f6-31af1ef0aa18",
   "metadata": {},
   "outputs": [
    {
     "name": "stdout",
     "output_type": "stream",
     "text": [
      "Mean absolute error : 22802858.0000\n"
     ]
    }
   ],
   "source": [
    "print(f'Mean absolute error : {res[0]:.4f}')"
   ]
  },
  {
   "cell_type": "markdown",
   "id": "236c2296-71f5-4489-a7e5-5a1cb0bb0b4e",
   "metadata": {},
   "source": [
    "### % Improvement on baseline"
   ]
  },
  {
   "cell_type": "code",
   "execution_count": 65,
   "id": "fa0e9b62-44e1-4e5d-96a4-bcdce6a66b92",
   "metadata": {},
   "outputs": [
    {
     "data": {
      "text/plain": [
       "'-0.4%'"
      ]
     },
     "execution_count": 65,
     "metadata": {},
     "output_type": "execute_result"
    }
   ],
   "source": [
    "f'{round((baseline-res[0])*100/baseline,2)}%'"
   ]
  },
  {
   "cell_type": "markdown",
   "id": "e7e25fe2-0a0e-4cef-a6a3-1831f4357052",
   "metadata": {},
   "source": [
    "### Loss graphs"
   ]
  },
  {
   "cell_type": "code",
   "execution_count": 66,
   "id": "506cb589-677d-464b-93b7-0c22ca6d0ef9",
   "metadata": {},
   "outputs": [
    {
     "data": {
      "image/png": "[encoded data removed]",
      "text/plain": [
       "<Figure size 640x480 with 1 Axes>"
      ]
     },
     "metadata": {},
     "output_type": "display_data"
    }
   ],
   "source": [
    "plot_loss_mse(history)"
   ]
  },
  {
   "cell_type": "code",
   "execution_count": 67,
   "id": "5b3d9669-64b5-4721-bdc3-32ab90edf646",
   "metadata": {},
   "outputs": [
    {
     "name": "stdout",
     "output_type": "stream",
     "text": [
      "1/1 [==============================] - 1s 1s/step\n"
     ]
    },
    {
     "data": {
      "text/plain": [
       "array([[0.01988996]], dtype=float32)"
      ]
     },
     "execution_count": 67,
     "metadata": {},
     "output_type": "execute_result"
    }
   ],
   "source": [
    "X_predict_token = tokenizer.texts_to_sequences(['new york city'])\n",
    "X_predict_pad = pad_sequences(X_predict_token, maxlen = input_length, padding='post', dtype='float32')\n",
    "model.predict(X_predict_pad)\n"
   ]
  },
  {
   "cell_type": "markdown",
   "id": "910ce241-4cfc-45ba-ab04-2d4ea7470d1f",
   "metadata": {},
   "source": [
    "# Concat"
   ]
  },
  {
   "cell_type": "markdown",
   "id": "b124549b",
   "metadata": {},
   "source": [
    "## Inputs and outputs"
   ]
  },
  {
   "cell_type": "code",
   "execution_count": 68,
   "id": "de6f5203-1034-4f1c-a705-abb49770db42",
   "metadata": {},
   "outputs": [],
   "source": [
    "# Define Inputs and Outputs of NLP model as with Numeric Model\n",
    "\n",
    "# model_nlp = build_model_nlp() # comment-out to keep pre-trained weights not to start from scratch\n",
    "input_NLP = model_cnn.input\n",
    "output_NLP = model_cnn.output\n",
    "\n",
    "# model_num = build_model_num() # comment-out to keep pre-trained weights not to start from scratch\n",
    "input_image = model_image.input\n",
    "output_image = model_image.output"
   ]
  },
  {
   "cell_type": "code",
   "execution_count": 69,
   "id": "c9f4e63e-1632-4b67-a81a-d7c1fd4a9716",
   "metadata": {},
   "outputs": [],
   "source": [
    "# Let's combine the two streams of data and add two dense layers on top!\n",
    "inputs = [input_NLP, input_image]\n",
    "\n",
    "combined = layers.concatenate([output_NLP, output_image])\n",
    "\n",
    "x = layers.Dense(10, activation=\"relu\")(combined)\n",
    "\n",
    "outputs = layers.Dense(1, activation=\"linear\")(x)\n",
    "\n",
    "model_combined = models.Model(inputs=inputs, outputs=outputs)"
   ]
  },
  {
   "cell_type": "markdown",
   "id": "0f8b29f1",
   "metadata": {},
   "source": [
    "## Fit"
   ]
  },
  {
   "cell_type": "code",
   "execution_count": 70,
   "id": "8c156d8d-c512-437d-a97e-d1e560d0ac77",
   "metadata": {},
   "outputs": [
    {
     "name": "stdout",
     "output_type": "stream",
     "text": [
      "Epoch 1/2\n",
      "1/1 [==============================] - 4s 4s/step - loss: 60739716907008.0000 - mae: 3857896.5000 - val_loss: 5408317440.0000 - val_mae: 44882.3008\n",
      "Epoch 2/2\n",
      "1/1 [==============================] - 1s 802ms/step - loss: 60739716907008.0000 - mae: 3857896.5000 - val_loss: 5408296960.0000 - val_mae: 44882.0391\n"
     ]
    },
    {
     "data": {
      "text/plain": [
       "<keras.callbacks.History at 0x2cdc2c130>"
      ]
     },
     "execution_count": 70,
     "metadata": {},
     "output_type": "execute_result"
    }
   ],
   "source": [
    "model_combined.compile(loss=\"mse\", optimizer=Adam(learning_rate=1e-4), metrics=['mae'])\n",
    "es = EarlyStopping(patience=2)\n",
    "\n",
    "model_combined.fit(x=[X_train_pad, X_images_train], \n",
    "                   y=y_train,\n",
    "                   validation_split=0.3,\n",
    "                   epochs=2,\n",
    "                   batch_size=32,\n",
    "                   callbacks=[es])"
   ]
  },
  {
   "cell_type": "markdown",
   "id": "cbb60fbd-3c3e-4135-9ee9-8ca28339c77a",
   "metadata": {},
   "source": [
    "## Model score"
   ]
  },
  {
   "cell_type": "code",
   "execution_count": 78,
   "id": "8922f4d1",
   "metadata": {},
   "outputs": [
    {
     "name": "stdout",
     "output_type": "stream",
     "text": [
      "1/1 [==============================] - 0s 337ms/step - loss: 1955856031678464.0000 - mae: 22802846.0000\n"
     ]
    }
   ],
   "source": [
    "res = model_combined.evaluate(x = [X_test_pad,X_images_test], y = y_test, verbose=1)"
   ]
  },
  {
   "cell_type": "code",
   "execution_count": 79,
   "id": "8c2a679b",
   "metadata": {},
   "outputs": [
    {
     "name": "stdout",
     "output_type": "stream",
     "text": [
      "Mean absolute error : 1955856031678464.0000\n"
     ]
    }
   ],
   "source": [
    "print(f'Mean absolute error : {res[0]:.4f}')"
   ]
  },
  {
   "cell_type": "markdown",
   "id": "c7f8750d",
   "metadata": {},
   "source": [
    "### % Improvement on baseline"
   ]
  },
  {
   "cell_type": "code",
   "execution_count": 80,
   "id": "7ddf5b6b",
   "metadata": {},
   "outputs": [
    {
     "data": {
      "text/plain": [
       "'-8611975622.21%'"
      ]
     },
     "execution_count": 80,
     "metadata": {},
     "output_type": "execute_result"
    }
   ],
   "source": [
    "f'{round((baseline-res[0])*100/baseline,2)}%'"
   ]
  },
  {
   "cell_type": "markdown",
   "id": "5ffa96e1",
   "metadata": {},
   "source": [
    "### Loss graphs"
   ]
  },
  {
   "cell_type": "code",
   "execution_count": 81,
   "id": "2102cc35",
   "metadata": {},
   "outputs": [
    {
     "data": {
      "image/png": "[encoded data removed]",
      "text/plain": [
       "<Figure size 640x480 with 1 Axes>"
      ]
     },
     "metadata": {},
     "output_type": "display_data"
    }
   ],
   "source": [
    "plot_loss_mse(history)"
   ]
  },
  {
   "cell_type": "code",
   "execution_count": 82,
   "id": "37973e73",
   "metadata": {},
   "outputs": [],
   "source": [
    "import mlflow\n",
    "\n",
    "import os\n",
    "import time\n",
    "import glob\n",
    "from mlflow.models.signature import infer_signature\n",
    "from colorama import Fore, Style\n",
    "\n",
    "from tensorflow.keras import Model, models"
   ]
  },
  {
   "cell_type": "code",
   "execution_count": 109,
   "id": "9552c4a5",
   "metadata": {},
   "outputs": [
    {
     "data": {
      "text/plain": [
       "[array([[ 11.,   9.,   7.,   4.,  66.,   7., 107.,   0.,   0.,   0.,   0.,\n",
       "           0.,   0.,   0.,   0.,   0.,   0.,   0.]], dtype=float32),\n",
       " array([[[[-0.8117647 , -0.8509804 , -0.73333335],\n",
       "          [-0.7882353 , -0.81960785, -0.67058825],\n",
       "          [-0.73333335, -0.7490196 , -0.52156866],\n",
       "          ...,\n",
       "          [-0.41176468, -0.60784316, -0.6392157 ],\n",
       "          [-0.42745095, -0.6156863 , -0.6627451 ],\n",
       "          [-0.4352941 , -0.62352943, -0.67058825]],\n",
       " \n",
       "         [[-0.8352941 , -0.8901961 , -0.77254903],\n",
       "          [-0.8039216 , -0.8352941 , -0.6862745 ],\n",
       "          [-0.7176471 , -0.7490196 , -0.52156866],\n",
       "          ...,\n",
       "          [-0.5372549 , -0.6862745 , -0.7254902 ],\n",
       "          [-0.5372549 , -0.6862745 , -0.7411765 ],\n",
       "          [-0.5529412 , -0.69411767, -0.7490196 ]],\n",
       " \n",
       "         [[-0.81960785, -0.8901961 , -0.7882353 ],\n",
       "          [-0.7882353 , -0.8352941 , -0.6862745 ],\n",
       "          [-0.69411767, -0.73333335, -0.5058824 ],\n",
       "          ...,\n",
       "          [-0.6784314 , -0.73333335, -0.8039216 ],\n",
       "          [-0.67058825, -0.7411765 , -0.8117647 ],\n",
       "          [-0.6862745 , -0.7411765 , -0.8117647 ]],\n",
       " \n",
       "         ...,\n",
       " \n",
       "         [[-0.7647059 , -0.7647059 , -0.7647059 ],\n",
       "          [-0.75686276, -0.75686276, -0.75686276],\n",
       "          [-0.7490196 , -0.7490196 , -0.7490196 ],\n",
       "          ...,\n",
       "          [-0.5058824 , -0.5058824 , -0.5058824 ],\n",
       "          [-0.4588235 , -0.4588235 , -0.4588235 ],\n",
       "          [-0.41176468, -0.41176468, -0.41176468]],\n",
       " \n",
       "         [[-0.7647059 , -0.7647059 , -0.7647059 ],\n",
       "          [-0.75686276, -0.75686276, -0.75686276],\n",
       "          [-0.7490196 , -0.7490196 , -0.7490196 ],\n",
       "          ...,\n",
       "          [-0.5058824 , -0.5058824 , -0.5058824 ],\n",
       "          [-0.4588235 , -0.4588235 , -0.4588235 ],\n",
       "          [-0.41960782, -0.41960782, -0.41960782]],\n",
       " \n",
       "         [[-0.7647059 , -0.7647059 , -0.7647059 ],\n",
       "          [-0.75686276, -0.75686276, -0.75686276],\n",
       "          [-0.7490196 , -0.7490196 , -0.7490196 ],\n",
       "          ...,\n",
       "          [-0.5137255 , -0.5137255 , -0.5137255 ],\n",
       "          [-0.46666664, -0.46666664, -0.46666664],\n",
       "          [-0.41960782, -0.41960782, -0.41960782]]]], dtype=float32)]"
      ]
     },
     "execution_count": 109,
     "metadata": {},
     "output_type": "execute_result"
    }
   ],
   "source": [
    "[X_test_pad[0:1],X_images_test[0:1]]"
   ]
  },
  {
   "cell_type": "code",
   "execution_count": 107,
   "id": "052fa2af",
   "metadata": {},
   "outputs": [
    {
     "name": "stderr",
     "output_type": "stream",
     "text": [
      "2022-12-04 16:49:22.066812: W tensorflow/core/common_runtime/graph_constructor.cc:805] Node 'cond/while' has 13 outputs but the _output_shapes attribute specifies shapes for 46 outputs. Output shapes may be inaccurate.\n",
      "2022-12-04 16:49:22.090197: W tensorflow/core/common_runtime/graph_constructor.cc:805] Node 'cond' has 4 outputs but the _output_shapes attribute specifies shapes for 46 outputs. Output shapes may be inaccurate.\n",
      "2022-12-04 16:49:22.587276: W tensorflow/core/common_runtime/graph_constructor.cc:805] Node 'cond/while' has 13 outputs but the _output_shapes attribute specifies shapes for 46 outputs. Output shapes may be inaccurate.\n",
      "2022-12-04 16:49:22.729782: W tensorflow/core/common_runtime/graph_constructor.cc:805] Node 'cond/while' has 13 outputs but the _output_shapes attribute specifies shapes for 46 outputs. Output shapes may be inaccurate.\n",
      "2022-12-04 16:49:29.962180: W tensorflow/core/common_runtime/graph_constructor.cc:805] Node 'cond/while' has 13 outputs but the _output_shapes attribute specifies shapes for 46 outputs. Output shapes may be inaccurate.\n",
      "2022-12-04 16:49:29.980968: W tensorflow/core/common_runtime/graph_constructor.cc:805] Node 'cond' has 4 outputs but the _output_shapes attribute specifies shapes for 46 outputs. Output shapes may be inaccurate.\n",
      "2022-12-04 16:49:30.211731: W tensorflow/core/common_runtime/graph_constructor.cc:805] Node 'cond/while' has 13 outputs but the _output_shapes attribute specifies shapes for 46 outputs. Output shapes may be inaccurate.\n",
      "2022-12-04 16:49:30.235473: W tensorflow/core/common_runtime/graph_constructor.cc:805] Node 'cond' has 4 outputs but the _output_shapes attribute specifies shapes for 46 outputs. Output shapes may be inaccurate.\n",
      "2022-12-04 16:49:30.951641: W tensorflow/core/common_runtime/graph_constructor.cc:805] Node 'cond/while' has 13 outputs but the _output_shapes attribute specifies shapes for 46 outputs. Output shapes may be inaccurate.\n",
      "2022-12-04 16:49:30.968851: W tensorflow/core/common_runtime/graph_constructor.cc:805] Node 'cond' has 4 outputs but the _output_shapes attribute specifies shapes for 46 outputs. Output shapes may be inaccurate.\n",
      "2022-12-04 16:49:31.651512: W tensorflow/core/common_runtime/graph_constructor.cc:805] Node 'cond/while' has 13 outputs but the _output_shapes attribute specifies shapes for 46 outputs. Output shapes may be inaccurate.\n",
      "2022-12-04 16:49:31.668362: W tensorflow/core/common_runtime/graph_constructor.cc:805] Node 'cond' has 4 outputs but the _output_shapes attribute specifies shapes for 46 outputs. Output shapes may be inaccurate.\n",
      "2022-12-04 16:49:31.761071: W tensorflow/core/common_runtime/graph_constructor.cc:805] Node 'cond/while' has 13 outputs but the _output_shapes attribute specifies shapes for 46 outputs. Output shapes may be inaccurate.\n",
      "2022-12-04 16:49:32.523675: W tensorflow/core/common_runtime/graph_constructor.cc:805] Node 'cond/while' has 13 outputs but the _output_shapes attribute specifies shapes for 46 outputs. Output shapes may be inaccurate.\n",
      "2022-12-04 16:49:32.539568: W tensorflow/core/common_runtime/graph_constructor.cc:805] Node 'cond' has 4 outputs but the _output_shapes attribute specifies shapes for 46 outputs. Output shapes may be inaccurate.\n",
      "2022-12-04 16:49:32.699212: W tensorflow/core/common_runtime/graph_constructor.cc:805] Node 'cond' has 4 outputs but the _output_shapes attribute specifies shapes for 46 outputs. Output shapes may be inaccurate.\n",
      "2022-12-04 16:49:33.069061: W tensorflow/core/common_runtime/graph_constructor.cc:805] Node 'cond/while' has 13 outputs but the _output_shapes attribute specifies shapes for 46 outputs. Output shapes may be inaccurate.\n",
      "2022-12-04 16:49:33.230912: W tensorflow/core/common_runtime/graph_constructor.cc:805] Node 'cond' has 4 outputs but the _output_shapes attribute specifies shapes for 46 outputs. Output shapes may be inaccurate.\n",
      "2022-12-04 16:49:33.948361: W tensorflow/core/common_runtime/graph_constructor.cc:805] Node 'cond/while' has 13 outputs but the _output_shapes attribute specifies shapes for 46 outputs. Output shapes may be inaccurate.\n",
      "2022-12-04 16:49:33.964784: W tensorflow/core/common_runtime/graph_constructor.cc:805] Node 'cond' has 4 outputs but the _output_shapes attribute specifies shapes for 46 outputs. Output shapes may be inaccurate.\n",
      "2022-12-04 16:49:34.118585: W tensorflow/core/common_runtime/graph_constructor.cc:805] Node 'cond/while' has 13 outputs but the _output_shapes attribute specifies shapes for 46 outputs. Output shapes may be inaccurate.\n",
      "2022-12-04 16:49:34.134352: W tensorflow/core/common_runtime/graph_constructor.cc:805] Node 'cond' has 4 outputs but the _output_shapes attribute specifies shapes for 46 outputs. Output shapes may be inaccurate.\n",
      "2022-12-04 16:49:34.270529: W tensorflow/core/common_runtime/graph_constructor.cc:805] Node 'cond' has 4 outputs but the _output_shapes attribute specifies shapes for 46 outputs. Output shapes may be inaccurate.\n",
      "2022-12-04 16:49:35.049144: W tensorflow/core/common_runtime/graph_constructor.cc:805] Node 'cond/while' has 13 outputs but the _output_shapes attribute specifies shapes for 46 outputs. Output shapes may be inaccurate.\n",
      "2022-12-04 16:49:35.065435: W tensorflow/core/common_runtime/graph_constructor.cc:805] Node 'cond' has 4 outputs but the _output_shapes attribute specifies shapes for 46 outputs. Output shapes may be inaccurate.\n",
      "2022-12-04 16:49:35.357010: W tensorflow/core/common_runtime/graph_constructor.cc:805] Node 'cond/while' has 13 outputs but the _output_shapes attribute specifies shapes for 46 outputs. Output shapes may be inaccurate.\n",
      "2022-12-04 16:49:35.373168: W tensorflow/core/common_runtime/graph_constructor.cc:805] Node 'cond' has 4 outputs but the _output_shapes attribute specifies shapes for 46 outputs. Output shapes may be inaccurate.\n",
      "2022-12-04 16:49:35.604401: W tensorflow/core/common_runtime/graph_constructor.cc:805] Node 'cond/while' has 13 outputs but the _output_shapes attribute specifies shapes for 46 outputs. Output shapes may be inaccurate.\n",
      "2022-12-04 16:49:35.621836: W tensorflow/core/common_runtime/graph_constructor.cc:805] Node 'cond' has 4 outputs but the _output_shapes attribute specifies shapes for 46 outputs. Output shapes may be inaccurate.\n",
      "2022-12-04 16:49:35.821325: W tensorflow/core/common_runtime/graph_constructor.cc:805] Node 'cond' has 4 outputs but the _output_shapes attribute specifies shapes for 46 outputs. Output shapes may be inaccurate.\n",
      "2022-12-04 16:49:36.812128: W tensorflow/core/common_runtime/graph_constructor.cc:805] Node 'cond/while' has 13 outputs but the _output_shapes attribute specifies shapes for 46 outputs. Output shapes may be inaccurate.\n",
      "2022-12-04 16:49:36.828529: W tensorflow/core/common_runtime/graph_constructor.cc:805] Node 'cond' has 4 outputs but the _output_shapes attribute specifies shapes for 46 outputs. Output shapes may be inaccurate.\n",
      "2022-12-04 16:49:36.866534: W tensorflow/core/common_runtime/graph_constructor.cc:805] Node 'cond/while' has 13 outputs but the _output_shapes attribute specifies shapes for 46 outputs. Output shapes may be inaccurate.\n",
      "2022-12-04 16:49:36.884630: W tensorflow/core/common_runtime/graph_constructor.cc:805] Node 'cond' has 4 outputs but the _output_shapes attribute specifies shapes for 46 outputs. Output shapes may be inaccurate.\n",
      "2022-12-04 16:49:37.282763: W tensorflow/core/common_runtime/graph_constructor.cc:805] Node 'cond/while' has 13 outputs but the _output_shapes attribute specifies shapes for 46 outputs. Output shapes may be inaccurate.\n",
      "2022-12-04 16:49:37.305224: W tensorflow/core/common_runtime/graph_constructor.cc:805] Node 'cond' has 4 outputs but the _output_shapes attribute specifies shapes for 46 outputs. Output shapes may be inaccurate.\n",
      "2022-12-04 16:49:37.710274: W tensorflow/core/common_runtime/graph_constructor.cc:805] Node 'cond/while' has 13 outputs but the _output_shapes attribute specifies shapes for 46 outputs. Output shapes may be inaccurate.\n",
      "2022-12-04 16:49:37.727592: W tensorflow/core/common_runtime/graph_constructor.cc:805] Node 'cond' has 4 outputs but the _output_shapes attribute specifies shapes for 46 outputs. Output shapes may be inaccurate.\n",
      "2022-12-04 16:49:38.777496: W tensorflow/core/common_runtime/graph_constructor.cc:805] Node 'cond/while' has 13 outputs but the _output_shapes attribute specifies shapes for 46 outputs. Output shapes may be inaccurate.\n",
      "2022-12-04 16:49:38.794052: W tensorflow/core/common_runtime/graph_constructor.cc:805] Node 'cond' has 4 outputs but the _output_shapes attribute specifies shapes for 46 outputs. Output shapes may be inaccurate.\n",
      "2022-12-04 16:49:46.585335: W tensorflow/core/common_runtime/graph_constructor.cc:805] Node 'cond/while' has 13 outputs but the _output_shapes attribute specifies shapes for 46 outputs. Output shapes may be inaccurate.\n",
      "2022-12-04 16:49:46.603761: W tensorflow/core/common_runtime/graph_constructor.cc:805] Node 'cond' has 4 outputs but the _output_shapes attribute specifies shapes for 46 outputs. Output shapes may be inaccurate.\n"
     ]
    },
    {
     "ename": "TypeError",
     "evalue": "weight_decay is not a valid argument, kwargs should be empty  for `optimizer_experimental.Optimizer`.",
     "output_type": "error",
     "traceback": [
      "\u001b[0;31m---------------------------------------------------------------------------\u001b[0m",
      "\u001b[0;31mTypeError\u001b[0m                                 Traceback (most recent call last)",
      "Cell \u001b[0;32mIn [107], line 1\u001b[0m\n\u001b[0;32m----> 1\u001b[0m model \u001b[39m=\u001b[39m models\u001b[39m.\u001b[39mload_model(\u001b[39m'\u001b[39m\u001b[39m../models/model_whole\u001b[39m\u001b[39m'\u001b[39m)\n",
      "File \u001b[0;32m~/.pyenv/versions/3.10.6/envs/lewagon/lib/python3.10/site-packages/keras/utils/traceback_utils.py:70\u001b[0m, in \u001b[0;36mfilter_traceback.<locals>.error_handler\u001b[0;34m(*args, **kwargs)\u001b[0m\n\u001b[1;32m     67\u001b[0m     filtered_tb \u001b[39m=\u001b[39m _process_traceback_frames(e\u001b[39m.\u001b[39m__traceback__)\n\u001b[1;32m     68\u001b[0m     \u001b[39m# To get the full stack trace, call:\u001b[39;00m\n\u001b[1;32m     69\u001b[0m     \u001b[39m# `tf.debugging.disable_traceback_filtering()`\u001b[39;00m\n\u001b[0;32m---> 70\u001b[0m     \u001b[39mraise\u001b[39;00m e\u001b[39m.\u001b[39mwith_traceback(filtered_tb) \u001b[39mfrom\u001b[39;00m \u001b[39mNone\u001b[39m\n\u001b[1;32m     71\u001b[0m \u001b[39mfinally\u001b[39;00m:\n\u001b[1;32m     72\u001b[0m     \u001b[39mdel\u001b[39;00m filtered_tb\n",
      "File \u001b[0;32m~/.pyenv/versions/3.10.6/envs/lewagon/lib/python3.10/site-packages/keras/optimizers/optimizer_experimental/optimizer.py:115\u001b[0m, in \u001b[0;36m_BaseOptimizer._process_kwargs\u001b[0;34m(self, kwargs)\u001b[0m\n\u001b[1;32m    109\u001b[0m     logging\u001b[39m.\u001b[39mwarning(\n\u001b[1;32m    110\u001b[0m         \u001b[39m\"\u001b[39m\u001b[39m%s\u001b[39;00m\u001b[39m is deprecated in `optimizer_experimental.Optimizer`\u001b[39m\u001b[39m\"\u001b[39m\n\u001b[1;32m    111\u001b[0m         \u001b[39m\"\u001b[39m\u001b[39m, please check the docstring for valid arguments.\u001b[39m\u001b[39m\"\u001b[39m,\n\u001b[1;32m    112\u001b[0m         k,\n\u001b[1;32m    113\u001b[0m     )\n\u001b[1;32m    114\u001b[0m \u001b[39melse\u001b[39;00m:\n\u001b[0;32m--> 115\u001b[0m     \u001b[39mraise\u001b[39;00m \u001b[39mTypeError\u001b[39;00m(\n\u001b[1;32m    116\u001b[0m         \u001b[39mf\u001b[39m\u001b[39m\"\u001b[39m\u001b[39m{\u001b[39;00mk\u001b[39m}\u001b[39;00m\u001b[39m is not a valid argument, kwargs should be empty \u001b[39m\u001b[39m\"\u001b[39m\n\u001b[1;32m    117\u001b[0m         \u001b[39m\"\u001b[39m\u001b[39m for `optimizer_experimental.Optimizer`.\u001b[39m\u001b[39m\"\u001b[39m\n\u001b[1;32m    118\u001b[0m     )\n",
      "\u001b[0;31mTypeError\u001b[0m: weight_decay is not a valid argument, kwargs should be empty  for `optimizer_experimental.Optimizer`."
     ]
    }
   ],
   "source": [
    "model = models.load_model('../models/model_whole')"
   ]
  },
  {
   "cell_type": "code",
   "execution_count": 77,
   "id": "fa66cd47",
   "metadata": {},
   "outputs": [
    {
     "name": "stdout",
     "output_type": "stream",
     "text": [
      "\u001b[34m\n",
      "Load model from local disk...\u001b[0m\n",
      "../models/*\n",
      "results\n",
      "['../models/modelo']\n",
      "- path: ../models/modelo\n",
      "\n",
      "✅ model loaded from disk\n",
      "<keras.engine.sequential.Sequential object at 0x31fe32a70>\n"
     ]
    }
   ],
   "source": [
    "print(Fore.BLUE + \"\\nLoad model from local disk...\" + Style.RESET_ALL)\n",
    "\n",
    "# get latest model version\n",
    "model_directory = 'models'\n",
    "print(f\"../{model_directory}/*\")\n",
    "results = glob.glob(f\"../{model_directory}/*\")\n",
    "print('results')\n",
    "print(results)\n",
    "model_path = sorted(results)[-1]\n",
    "print(f\"- path: {model_path}\")\n",
    "\n",
    "model = models.load_model(model_path)\n",
    "print(\"\\n✅ model loaded from disk\")\n",
    "\n",
    "print(model)"
   ]
  },
  {
   "cell_type": "code",
   "execution_count": 101,
   "id": "1d59edb3",
   "metadata": {},
   "outputs": [],
   "source": [
    "np.save(f'../raw_data/single_nlp_pred.npy',X_test_pad[0:1])\n",
    "np.save(f'../raw_data/single_images_pred.npy',X_images_test[0:1])"
   ]
  },
  {
   "cell_type": "code",
   "execution_count": 103,
   "id": "6256213d",
   "metadata": {},
   "outputs": [
    {
     "data": {
      "text/plain": [
       "(1, 180, 320, 3)"
      ]
     },
     "execution_count": 103,
     "metadata": {},
     "output_type": "execute_result"
    }
   ],
   "source": [
    "np.load(f'../raw_data/single_images_pred.npy').shape"
   ]
  },
  {
   "cell_type": "code",
   "execution_count": 105,
   "id": "f3a0a29f",
   "metadata": {},
   "outputs": [
    {
     "data": {
      "text/plain": [
       "array([[  1., 445.,   1.,  67., 642., 298., 101.,  20.,  98.,  47.,   9.,\n",
       "          0.,   0.,   0.,   0.,   0.,   0.,   0.,   0.,   0.,   0.,   0.]],\n",
       "      dtype=float32)"
      ]
     },
     "execution_count": 105,
     "metadata": {},
     "output_type": "execute_result"
    }
   ],
   "source": [
    "np.load(f'../raw_data/single_nlp_pred.npy')"
   ]
  },
  {
   "cell_type": "code",
   "execution_count": 99,
   "id": "92d0b01a",
   "metadata": {},
   "outputs": [
    {
     "ename": "AttributeError",
     "evalue": "'numpy.ndarray' object has no attribute 'save'",
     "output_type": "error",
     "traceback": [
      "\u001b[0;31m---------------------------------------------------------------------------\u001b[0m",
      "\u001b[0;31mAttributeError\u001b[0m                            Traceback (most recent call last)",
      "Cell \u001b[0;32mIn [99], line 1\u001b[0m\n\u001b[0;32m----> 1\u001b[0m X_test_pad[\u001b[39m0\u001b[39m:\u001b[39m1\u001b[39m]\u001b[39m.\u001b[39msave(\u001b[39m'\u001b[39m\u001b[39mnlp_pred.np\u001b[39m\u001b[39m'\u001b[39m)\n",
      "\u001b[0;31mAttributeError\u001b[0m: 'numpy.ndarray' object has no attribute 'save'"
     ]
    }
   ],
   "source": [
    "X_test_pad[0:1].save('nlp_pred.np')"
   ]
  },
  {
   "cell_type": "code",
   "execution_count": 94,
   "id": "6b93569c",
   "metadata": {},
   "outputs": [
    {
     "name": "stdout",
     "output_type": "stream",
     "text": [
      "1/1 [==============================] - 0s 127ms/step\n"
     ]
    },
    {
     "data": {
      "text/plain": [
       "array([[6.8432236]], dtype=float32)"
      ]
     },
     "execution_count": 94,
     "metadata": {},
     "output_type": "execute_result"
    }
   ],
   "source": [
    "model_combined.predict(x=[X_test_pad[0:1],X_images_test[0:1]])"
   ]
  },
  {
   "cell_type": "code",
   "execution_count": null,
   "id": "37232090",
   "metadata": {},
   "outputs": [],
   "source": []
  }
 ],
 "metadata": {
  "kernelspec": {
   "display_name": "Python 3.10.6 64-bit ('lewagon')",
   "language": "python",
   "name": "python3"
  },
  "language_info": {
   "codemirror_mode": {
    "name": "ipython",
    "version": 3
   },
   "file_extension": ".py",
   "mimetype": "text/x-python",
   "name": "python",
   "nbconvert_exporter": "python",
   "pygments_lexer": "ipython3",
   "version": "3.10.6"
  },
  "toc-autonumbering": true,
  "toc-showmarkdowntxt": true,
  "vscode": {
   "interpreter": {
    "hash": "796d12d58fed328bdf981f0b0501490a5479cc68e82a5c6b494e7225e4597e6f"
   }
  }
 },
 "nbformat": 4,
 "nbformat_minor": 5
}
